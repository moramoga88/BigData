{
 "cells": [
  {
   "cell_type": "code",
   "execution_count": 33,
   "metadata": {},
   "outputs": [],
   "source": [
    "#first step is importing all the necessary packages \n",
    "\n",
    "import pandas as pd\n",
    "import numpy as np \n",
    "import scipy\n",
    "from math import sqrt\n",
    "import matplotlib.pyplot as plt\n",
    "from matplotlib.pyplot import scatter\n",
    "import seaborn as sns # used for plot interactive graph. \n",
    "\n",
    "\n",
    "from sklearn.ensemble import RandomForestRegressor\n",
    "from sklearn.ensemble import RandomForestClassifier\n",
    "from sklearn.linear_model import LinearRegression\n",
    "from sklearn.svm import SVR\n",
    "from sklearn  import linear_model\n",
    "\n",
    "from sklearn.metrics  import mean_squared_error\n",
    "from sklearn.metrics  import r2_score\n",
    "from sklearn.model_selection  import cross_val_score\n",
    "from sklearn.model_selection import train_test_split\n",
    "from sklearn.svm import SVC\n",
    "from sklearn.neighbors import KNeighborsClassifier\n",
    "from sklearn.metrics import accuracy_score\n",
    "from sklearn.svm import SVC \n",
    "from sklearn.model_selection import GridSearchCV"
   ]
  },
  {
   "cell_type": "code",
   "execution_count": 34,
   "metadata": {},
   "outputs": [],
   "source": [
    "#import the dataset \n",
    "#the first dataset is encoded\n",
    "studentDS = pd.read_csv('/Users/moramoga/Documents/Big Data/Course 5 /Task 5 Capstone/Encoded Dataset 2.csv', header =0)\n",
    "#this dataset is not encoded, it will be used for the EDA\n",
    "studentDS2 = pd.read_csv('/Users/moramoga/Documents/Big Data/Course 5 /Task 5 Capstone/Original Dataset.csv', header =0)\n"
   ]
  },
  {
   "cell_type": "code",
   "execution_count": 35,
   "metadata": {},
   "outputs": [
    {
     "data": {
      "text/html": [
       "<div>\n",
       "<style scoped>\n",
       "    .dataframe tbody tr th:only-of-type {\n",
       "        vertical-align: middle;\n",
       "    }\n",
       "\n",
       "    .dataframe tbody tr th {\n",
       "        vertical-align: top;\n",
       "    }\n",
       "\n",
       "    .dataframe thead th {\n",
       "        text-align: right;\n",
       "    }\n",
       "</style>\n",
       "<table border=\"1\" class=\"dataframe\">\n",
       "  <thead>\n",
       "    <tr style=\"text-align: right;\">\n",
       "      <th></th>\n",
       "      <th>sex</th>\n",
       "      <th>age</th>\n",
       "      <th>address</th>\n",
       "      <th>famsize</th>\n",
       "      <th>Pstatus</th>\n",
       "      <th>Medu</th>\n",
       "      <th>Fedu</th>\n",
       "      <th>traveltime</th>\n",
       "      <th>studytime</th>\n",
       "      <th>failures</th>\n",
       "      <th>...</th>\n",
       "      <th>internet</th>\n",
       "      <th>romantic</th>\n",
       "      <th>famrel</th>\n",
       "      <th>freetime</th>\n",
       "      <th>goout</th>\n",
       "      <th>Dalc</th>\n",
       "      <th>Walc</th>\n",
       "      <th>health</th>\n",
       "      <th>absences</th>\n",
       "      <th>Final Grade</th>\n",
       "    </tr>\n",
       "  </thead>\n",
       "  <tbody>\n",
       "    <tr>\n",
       "      <td>0</td>\n",
       "      <td>F</td>\n",
       "      <td>18</td>\n",
       "      <td>1</td>\n",
       "      <td>0</td>\n",
       "      <td>0</td>\n",
       "      <td>4</td>\n",
       "      <td>4</td>\n",
       "      <td>2</td>\n",
       "      <td>2</td>\n",
       "      <td>0</td>\n",
       "      <td>...</td>\n",
       "      <td>False</td>\n",
       "      <td>False</td>\n",
       "      <td>4</td>\n",
       "      <td>3</td>\n",
       "      <td>4</td>\n",
       "      <td>1</td>\n",
       "      <td>1</td>\n",
       "      <td>3</td>\n",
       "      <td>6</td>\n",
       "      <td>D</td>\n",
       "    </tr>\n",
       "    <tr>\n",
       "      <td>1</td>\n",
       "      <td>F</td>\n",
       "      <td>17</td>\n",
       "      <td>1</td>\n",
       "      <td>0</td>\n",
       "      <td>1</td>\n",
       "      <td>1</td>\n",
       "      <td>1</td>\n",
       "      <td>1</td>\n",
       "      <td>2</td>\n",
       "      <td>0</td>\n",
       "      <td>...</td>\n",
       "      <td>True</td>\n",
       "      <td>False</td>\n",
       "      <td>5</td>\n",
       "      <td>3</td>\n",
       "      <td>3</td>\n",
       "      <td>1</td>\n",
       "      <td>1</td>\n",
       "      <td>3</td>\n",
       "      <td>4</td>\n",
       "      <td>D</td>\n",
       "    </tr>\n",
       "    <tr>\n",
       "      <td>2</td>\n",
       "      <td>F</td>\n",
       "      <td>15</td>\n",
       "      <td>1</td>\n",
       "      <td>1</td>\n",
       "      <td>1</td>\n",
       "      <td>1</td>\n",
       "      <td>1</td>\n",
       "      <td>1</td>\n",
       "      <td>2</td>\n",
       "      <td>3</td>\n",
       "      <td>...</td>\n",
       "      <td>True</td>\n",
       "      <td>False</td>\n",
       "      <td>4</td>\n",
       "      <td>3</td>\n",
       "      <td>2</td>\n",
       "      <td>2</td>\n",
       "      <td>3</td>\n",
       "      <td>3</td>\n",
       "      <td>10</td>\n",
       "      <td>D</td>\n",
       "    </tr>\n",
       "    <tr>\n",
       "      <td>3</td>\n",
       "      <td>F</td>\n",
       "      <td>15</td>\n",
       "      <td>1</td>\n",
       "      <td>0</td>\n",
       "      <td>1</td>\n",
       "      <td>4</td>\n",
       "      <td>2</td>\n",
       "      <td>1</td>\n",
       "      <td>3</td>\n",
       "      <td>0</td>\n",
       "      <td>...</td>\n",
       "      <td>True</td>\n",
       "      <td>True</td>\n",
       "      <td>3</td>\n",
       "      <td>2</td>\n",
       "      <td>2</td>\n",
       "      <td>1</td>\n",
       "      <td>1</td>\n",
       "      <td>5</td>\n",
       "      <td>2</td>\n",
       "      <td>B</td>\n",
       "    </tr>\n",
       "    <tr>\n",
       "      <td>4</td>\n",
       "      <td>F</td>\n",
       "      <td>16</td>\n",
       "      <td>1</td>\n",
       "      <td>0</td>\n",
       "      <td>1</td>\n",
       "      <td>3</td>\n",
       "      <td>3</td>\n",
       "      <td>1</td>\n",
       "      <td>2</td>\n",
       "      <td>0</td>\n",
       "      <td>...</td>\n",
       "      <td>False</td>\n",
       "      <td>False</td>\n",
       "      <td>4</td>\n",
       "      <td>3</td>\n",
       "      <td>2</td>\n",
       "      <td>1</td>\n",
       "      <td>2</td>\n",
       "      <td>5</td>\n",
       "      <td>4</td>\n",
       "      <td>D</td>\n",
       "    </tr>\n",
       "  </tbody>\n",
       "</table>\n",
       "<p>5 rows × 26 columns</p>\n",
       "</div>"
      ],
      "text/plain": [
       "  sex  age  address  famsize  Pstatus  Medu  Fedu  traveltime  studytime  \\\n",
       "0   F   18        1        0        0     4     4           2          2   \n",
       "1   F   17        1        0        1     1     1           1          2   \n",
       "2   F   15        1        1        1     1     1           1          2   \n",
       "3   F   15        1        0        1     4     2           1          3   \n",
       "4   F   16        1        0        1     3     3           1          2   \n",
       "\n",
       "   failures  ...  internet  romantic  famrel  freetime  goout  Dalc  Walc  \\\n",
       "0         0  ...     False     False       4         3      4     1     1   \n",
       "1         0  ...      True     False       5         3      3     1     1   \n",
       "2         3  ...      True     False       4         3      2     2     3   \n",
       "3         0  ...      True      True       3         2      2     1     1   \n",
       "4         0  ...     False     False       4         3      2     1     2   \n",
       "\n",
       "   health  absences  Final Grade  \n",
       "0       3         6            D  \n",
       "1       3         4            D  \n",
       "2       3        10            D  \n",
       "3       5         2            B  \n",
       "4       5         4            D  \n",
       "\n",
       "[5 rows x 26 columns]"
      ]
     },
     "execution_count": 35,
     "metadata": {},
     "output_type": "execute_result"
    }
   ],
   "source": [
    "#check the head of the dataset\n",
    "studentDS.head()\n"
   ]
  },
  {
   "cell_type": "code",
   "execution_count": 36,
   "metadata": {},
   "outputs": [
    {
     "name": "stdout",
     "output_type": "stream",
     "text": [
      "<class 'pandas.core.frame.DataFrame'>\n",
      "RangeIndex: 1044 entries, 0 to 1043\n",
      "Data columns (total 26 columns):\n",
      "sex            1044 non-null object\n",
      "age            1044 non-null int64\n",
      "address        1044 non-null int64\n",
      "famsize        1044 non-null int64\n",
      "Pstatus        1044 non-null int64\n",
      "Medu           1044 non-null int64\n",
      "Fedu           1044 non-null int64\n",
      "traveltime     1044 non-null int64\n",
      "studytime      1044 non-null int64\n",
      "failures       1044 non-null int64\n",
      "schoolsup      1044 non-null bool\n",
      "famsup         1044 non-null bool\n",
      "paid           1044 non-null bool\n",
      "activities     1044 non-null bool\n",
      "nursery        1044 non-null bool\n",
      "higher         1044 non-null bool\n",
      "internet       1044 non-null bool\n",
      "romantic       1044 non-null bool\n",
      "famrel         1044 non-null int64\n",
      "freetime       1044 non-null int64\n",
      "goout          1044 non-null int64\n",
      "Dalc           1044 non-null int64\n",
      "Walc           1044 non-null int64\n",
      "health         1044 non-null int64\n",
      "absences       1044 non-null int64\n",
      "Final Grade    1044 non-null object\n",
      "dtypes: bool(8), int64(16), object(2)\n",
      "memory usage: 155.1+ KB\n"
     ]
    }
   ],
   "source": [
    "#check the data types\n",
    "studentDS.info()\n"
   ]
  },
  {
   "cell_type": "code",
   "execution_count": 37,
   "metadata": {},
   "outputs": [],
   "source": [
    "#change the data to the correct types\n",
    "studentDS = studentDS.astype({\"health\":'category',\"goout\":'category',\"Dalc\":'category',\"Fedu\":'category',\"Medu\":'category',\"Final Grade\":'category',\"Walc\":'category',\"absences\":'category',\"freetime\":'category',\"romantic\":'category',\"internet\":'category',\"higher\":'category',\"activities\":'category',\"paid\":'category',\"schoolsup\":'category',\"failures\":'category',\"studytime\":'category',\"sex\":'category', \"age\":'int', \"address\":'category',\"famsize\":'category',\"Pstatus\":'category',\"traveltime\":'category',}) "
   ]
  },
  {
   "cell_type": "code",
   "execution_count": 38,
   "metadata": {},
   "outputs": [
    {
     "name": "stdout",
     "output_type": "stream",
     "text": [
      "<class 'pandas.core.frame.DataFrame'>\n",
      "RangeIndex: 1044 entries, 0 to 1043\n",
      "Data columns (total 26 columns):\n",
      "sex            1044 non-null category\n",
      "age            1044 non-null int64\n",
      "address        1044 non-null category\n",
      "famsize        1044 non-null category\n",
      "Pstatus        1044 non-null category\n",
      "Medu           1044 non-null category\n",
      "Fedu           1044 non-null category\n",
      "traveltime     1044 non-null category\n",
      "studytime      1044 non-null category\n",
      "failures       1044 non-null category\n",
      "schoolsup      1044 non-null category\n",
      "famsup         1044 non-null bool\n",
      "paid           1044 non-null category\n",
      "activities     1044 non-null category\n",
      "nursery        1044 non-null bool\n",
      "higher         1044 non-null category\n",
      "internet       1044 non-null category\n",
      "romantic       1044 non-null category\n",
      "famrel         1044 non-null int64\n",
      "freetime       1044 non-null category\n",
      "goout          1044 non-null category\n",
      "Dalc           1044 non-null category\n",
      "Walc           1044 non-null category\n",
      "health         1044 non-null category\n",
      "absences       1044 non-null category\n",
      "Final Grade    1044 non-null category\n",
      "dtypes: bool(2), category(22), int64(2)\n",
      "memory usage: 45.5 KB\n"
     ]
    }
   ],
   "source": [
    "#Verify the correct data types \n",
    "studentDS.info()"
   ]
  },
  {
   "cell_type": "code",
   "execution_count": 39,
   "metadata": {},
   "outputs": [
    {
     "data": {
      "text/plain": [
       "False"
      ]
     },
     "execution_count": 39,
     "metadata": {},
     "output_type": "execute_result"
    }
   ],
   "source": [
    "#check if there are any null values\n",
    "studentDS.isnull().values.any()"
   ]
  },
  {
   "cell_type": "code",
   "execution_count": 40,
   "metadata": {
    "scrolled": true
   },
   "outputs": [
    {
     "data": {
      "image/png": "[encoded data removed]",
      "text/plain": [
       "<Figure size 1440x1080 with 9 Axes>"
      ]
     },
     "metadata": {},
     "output_type": "display_data"
    }
   ],
   "source": [
    "#Exploratory data analysis to understand if alcohol consuption in weekends is related to other demographic and family related information\n",
    "\n",
    "f, axes = plt.subplots(3, 3, figsize=(20, 15), facecolor='white')\n",
    "f.suptitle('Exploratory Data Analysis')\n",
    "\n",
    "\n",
    "ax1 = sns.countplot(x=\"sex\", hue=\"Walc\", data=studentDS2, palette=\"Blues\", ax=axes[0,0])\n",
    "ax2 = sns.countplot(x=\"address\", hue=\"Walc\", data=studentDS2, palette=\"Blues\",ax=axes[0,1])\n",
    "ax3 = sns.countplot(x=\"traveltime\", hue=\"Walc\", data=studentDS2, palette=\"Blues\",ax=axes[0,2])\n",
    "ax4 = sns.countplot(x=\"internet\", hue=\"Walc\", data=studentDS2, palette=\"Blues\", ax=axes[1,0])\n",
    "ax5 = sns.countplot(x=\"romantic\", hue=\"Walc\", data=studentDS2, palette=\"Blues\", ax=axes[1,1])\n",
    "ax6 = sns.countplot(x=\"freetime\", hue=\"Walc\", data=studentDS2, palette=\"Blues\", ax=axes[1,2])\n",
    "ax7 = sns.countplot(x=\"studytime\", hue=\"Walc\", data=studentDS2, palette=\"Blues\", ax=axes[2,0])\n",
    "ax8 = sns.countplot(x=\"activities\", hue=\"Walc\", data=studentDS2, palette=\"Blues\", ax=axes[2,1])\n",
    "ax9 = sns.countplot(x=\"Final Grade\", hue=\"Walc\", data=studentDS2, palette=\"Blues\", ax=axes[2,2]);"
   ]
  },
  {
   "cell_type": "code",
   "execution_count": 41,
   "metadata": {},
   "outputs": [
    {
     "data": {
      "image/png": "[encoded data removed]",
      "text/plain": [
       "<Figure size 1440x1080 with 9 Axes>"
      ]
     },
     "metadata": {},
     "output_type": "display_data"
    }
   ],
   "source": [
    "#Exploratory data analysis to understand if alcohol consuption in weekdays is related to other demographic and family related information\n",
    "\n",
    "f, axes = plt.subplots(3, 3, figsize=(20, 15), facecolor='white')\n",
    "f.suptitle('Exploratory Data Analysis 2')\n",
    "\n",
    "\n",
    "ax1 = sns.countplot(x=\"sex\", hue=\"Dalc\", data=studentDS2, palette=\"Blues\", ax=axes[0,0])\n",
    "ax2 = sns.countplot(x=\"address\", hue=\"Dalc\", data=studentDS2, palette=\"Blues\",ax=axes[0,1])\n",
    "ax3 = sns.countplot(x=\"traveltime\", hue=\"Dalc\", data=studentDS2, palette=\"Blues\",ax=axes[0,2])\n",
    "ax4 = sns.countplot(x=\"internet\", hue=\"Dalc\", data=studentDS2, palette=\"Blues\", ax=axes[1,0])\n",
    "ax5 = sns.countplot(x=\"romantic\", hue=\"Dalc\", data=studentDS2, palette=\"Blues\", ax=axes[1,1])\n",
    "ax6 = sns.countplot(x=\"freetime\", hue=\"Dalc\", data=studentDS2, palette=\"Blues\", ax=axes[1,2])\n",
    "ax7 = sns.countplot(x=\"studytime\", hue=\"Dalc\", data=studentDS2, palette=\"Blues\", ax=axes[2,0])\n",
    "ax8 = sns.countplot(x=\"activities\", hue=\"Dalc\", data=studentDS2, palette=\"Blues\", ax=axes[2,1])\n",
    "ax9 = sns.countplot(x=\"Final Grade\", hue=\"Dalc\", data=studentDS2, palette=\"Blues\", ax=axes[2,2]);\n",
    "\n",
    "################################################\n",
    "#In conclusion this dataset wont be used for the final Capstone report  because no relevant data was revealed. "
   ]
  },
  {
   "cell_type": "code",
   "execution_count": 50,
   "metadata": {},
   "outputs": [
    {
     "data": {
      "image/png": "[encoded data removed]",
      "text/plain": [
       "<Figure size 1440x1080 with 9 Axes>"
      ]
     },
     "metadata": {},
     "output_type": "display_data"
    }
   ],
   "source": [
    "#Exploratory data analysis to understand if alcohol consuption in weekdays is related to other demographic and family related information\n",
    "\n",
    "f, axes = plt.subplots(3, 3, figsize=(20, 15), facecolor='white')\n",
    "f.suptitle('Exploratory Data Analysis 2')\n",
    "\n",
    "\n",
    "ax1 = sns.countplot(x=\"sex\", hue=\"Final Grade\", data=studentDS2, palette=\"Blues\", ax=axes[0,0])\n",
    "ax2 = sns.countplot(x=\"address\", hue=\"Final Grade\", data=studentDS2, palette=\"Blues\",ax=axes[0,1])\n",
    "ax3 = sns.countplot(x=\"Dalc\", hue=\"Final Grade\", data=studentDS2, palette=\"Blues\",ax=axes[0,2])\n",
    "ax4 = sns.countplot(x=\"internet\", hue=\"Final Grade\", data=studentDS2, palette=\"Blues\", ax=axes[1,0])\n",
    "ax5 = sns.countplot(x=\"romantic\", hue=\"Final Grade\", data=studentDS2, palette=\"Blues\", ax=axes[1,1])\n",
    "ax6 = sns.countplot(x=\"Fedu\", hue=\"Final Grade\", data=studentDS2, palette=\"Blues\", ax=axes[1,2])\n",
    "ax7 = sns.countplot(x=\"higher\", hue=\"Final Grade\", data=studentDS2, palette=\"Blues\", ax=axes[2,0])\n",
    "ax8 = sns.countplot(x=\"Pstatus\", hue=\"Final Grade\", data=studentDS2, palette=\"Blues\", ax=axes[2,1])\n",
    "ax9 = sns.countplot(x=\"Medu\", hue=\"Final Grade\", data=studentDS2, palette=\"Blues\", ax=axes[2,2]);"
   ]
  },
  {
   "cell_type": "code",
   "execution_count": 49,
   "metadata": {},
   "outputs": [
    {
     "data": {
      "image/png": "[encoded data removed]",
      "text/plain": [
       "<Figure size 1440x1080 with 9 Axes>"
      ]
     },
     "metadata": {},
     "output_type": "display_data"
    }
   ],
   "source": [
    "#Exploratory data analysis understand how grades are related to the other demographic variables\n",
    "\n",
    "f, axes = plt.subplots(3, 3, figsize=(20, 15), facecolor='white')\n",
    "f.suptitle('Exploratory Data Analysis 3')\n",
    "\n",
    "\n",
    "\n",
    "ax1 = sns.countplot(x=\"sex\" ,data=studentDS2, palette=\"Blues\", ax=axes[0,0])\n",
    "ax2 = sns.countplot(x=\"address\",  data=studentDS2, palette=\"Blues\",ax=axes[0,1])\n",
    "ax3 = sns.countplot(x=\"Dalc\",  data=studentDS2, palette=\"Blues\",ax=axes[0,2])\n",
    "ax4 = sns.countplot(x=\"internet\",  data=studentDS2, palette=\"Blues\", ax=axes[1,0])\n",
    "ax5 = sns.countplot(x=\"romantic\",  data=studentDS2, palette=\"Blues\", ax=axes[1,1])\n",
    "ax6 = sns.countplot(x=\"freetime\", data=studentDS2, palette=\"Blues\", ax=axes[1,2])\n",
    "ax7 = sns.countplot(x=\"higher\",  data=studentDS2, palette=\"Blues\", ax=axes[2,0])\n",
    "ax8 = sns.countplot(x=\"Pstatus\",  data=studentDS2, palette=\"Blues\", ax=axes[2,1])\n",
    "ax9 = sns.countplot(x=\"paid\",  data=studentDS2, palette=\"Blues\", ax=axes[2,2]);"
   ]
  },
  {
   "cell_type": "code",
   "execution_count": 10,
   "metadata": {},
   "outputs": [
    {
     "name": "stdout",
     "output_type": "stream",
     "text": [
      "Summary of feature sample\n"
     ]
    },
    {
     "data": {
      "text/html": [
       "<div>\n",
       "<style scoped>\n",
       "    .dataframe tbody tr th:only-of-type {\n",
       "        vertical-align: middle;\n",
       "    }\n",
       "\n",
       "    .dataframe tbody tr th {\n",
       "        vertical-align: top;\n",
       "    }\n",
       "\n",
       "    .dataframe thead th {\n",
       "        text-align: right;\n",
       "    }\n",
       "</style>\n",
       "<table border=\"1\" class=\"dataframe\">\n",
       "  <thead>\n",
       "    <tr style=\"text-align: right;\">\n",
       "      <th></th>\n",
       "      <th>age</th>\n",
       "      <th>address</th>\n",
       "      <th>famsize</th>\n",
       "      <th>Pstatus</th>\n",
       "      <th>Medu</th>\n",
       "      <th>Fedu</th>\n",
       "      <th>traveltime</th>\n",
       "      <th>studytime</th>\n",
       "      <th>failures</th>\n",
       "      <th>schoolsup</th>\n",
       "      <th>...</th>\n",
       "      <th>higher</th>\n",
       "      <th>internet</th>\n",
       "      <th>romantic</th>\n",
       "      <th>famrel</th>\n",
       "      <th>freetime</th>\n",
       "      <th>goout</th>\n",
       "      <th>Dalc</th>\n",
       "      <th>Walc</th>\n",
       "      <th>health</th>\n",
       "      <th>absences</th>\n",
       "    </tr>\n",
       "  </thead>\n",
       "  <tbody>\n",
       "    <tr>\n",
       "      <td>0</td>\n",
       "      <td>18</td>\n",
       "      <td>1</td>\n",
       "      <td>0</td>\n",
       "      <td>0</td>\n",
       "      <td>4</td>\n",
       "      <td>4</td>\n",
       "      <td>2</td>\n",
       "      <td>2</td>\n",
       "      <td>0</td>\n",
       "      <td>True</td>\n",
       "      <td>...</td>\n",
       "      <td>True</td>\n",
       "      <td>False</td>\n",
       "      <td>False</td>\n",
       "      <td>4</td>\n",
       "      <td>3</td>\n",
       "      <td>4</td>\n",
       "      <td>1</td>\n",
       "      <td>1</td>\n",
       "      <td>3</td>\n",
       "      <td>6</td>\n",
       "    </tr>\n",
       "    <tr>\n",
       "      <td>1</td>\n",
       "      <td>17</td>\n",
       "      <td>1</td>\n",
       "      <td>0</td>\n",
       "      <td>1</td>\n",
       "      <td>1</td>\n",
       "      <td>1</td>\n",
       "      <td>1</td>\n",
       "      <td>2</td>\n",
       "      <td>0</td>\n",
       "      <td>False</td>\n",
       "      <td>...</td>\n",
       "      <td>True</td>\n",
       "      <td>True</td>\n",
       "      <td>False</td>\n",
       "      <td>5</td>\n",
       "      <td>3</td>\n",
       "      <td>3</td>\n",
       "      <td>1</td>\n",
       "      <td>1</td>\n",
       "      <td>3</td>\n",
       "      <td>4</td>\n",
       "    </tr>\n",
       "    <tr>\n",
       "      <td>2</td>\n",
       "      <td>15</td>\n",
       "      <td>1</td>\n",
       "      <td>1</td>\n",
       "      <td>1</td>\n",
       "      <td>1</td>\n",
       "      <td>1</td>\n",
       "      <td>1</td>\n",
       "      <td>2</td>\n",
       "      <td>3</td>\n",
       "      <td>True</td>\n",
       "      <td>...</td>\n",
       "      <td>True</td>\n",
       "      <td>True</td>\n",
       "      <td>False</td>\n",
       "      <td>4</td>\n",
       "      <td>3</td>\n",
       "      <td>2</td>\n",
       "      <td>2</td>\n",
       "      <td>3</td>\n",
       "      <td>3</td>\n",
       "      <td>10</td>\n",
       "    </tr>\n",
       "    <tr>\n",
       "      <td>3</td>\n",
       "      <td>15</td>\n",
       "      <td>1</td>\n",
       "      <td>0</td>\n",
       "      <td>1</td>\n",
       "      <td>4</td>\n",
       "      <td>2</td>\n",
       "      <td>1</td>\n",
       "      <td>3</td>\n",
       "      <td>0</td>\n",
       "      <td>False</td>\n",
       "      <td>...</td>\n",
       "      <td>True</td>\n",
       "      <td>True</td>\n",
       "      <td>True</td>\n",
       "      <td>3</td>\n",
       "      <td>2</td>\n",
       "      <td>2</td>\n",
       "      <td>1</td>\n",
       "      <td>1</td>\n",
       "      <td>5</td>\n",
       "      <td>2</td>\n",
       "    </tr>\n",
       "    <tr>\n",
       "      <td>4</td>\n",
       "      <td>16</td>\n",
       "      <td>1</td>\n",
       "      <td>0</td>\n",
       "      <td>1</td>\n",
       "      <td>3</td>\n",
       "      <td>3</td>\n",
       "      <td>1</td>\n",
       "      <td>2</td>\n",
       "      <td>0</td>\n",
       "      <td>False</td>\n",
       "      <td>...</td>\n",
       "      <td>True</td>\n",
       "      <td>False</td>\n",
       "      <td>False</td>\n",
       "      <td>4</td>\n",
       "      <td>3</td>\n",
       "      <td>2</td>\n",
       "      <td>1</td>\n",
       "      <td>2</td>\n",
       "      <td>5</td>\n",
       "      <td>4</td>\n",
       "    </tr>\n",
       "  </tbody>\n",
       "</table>\n",
       "<p>5 rows × 24 columns</p>\n",
       "</div>"
      ],
      "text/plain": [
       "   age address famsize Pstatus Medu Fedu traveltime studytime failures  \\\n",
       "0   18       1       0       0    4    4          2         2        0   \n",
       "1   17       1       0       1    1    1          1         2        0   \n",
       "2   15       1       1       1    1    1          1         2        3   \n",
       "3   15       1       0       1    4    2          1         3        0   \n",
       "4   16       1       0       1    3    3          1         2        0   \n",
       "\n",
       "  schoolsup  ...  higher internet romantic  famrel freetime goout Dalc  Walc  \\\n",
       "0      True  ...    True    False    False       4        3     4    1     1   \n",
       "1     False  ...    True     True    False       5        3     3    1     1   \n",
       "2      True  ...    True     True    False       4        3     2    2     3   \n",
       "3     False  ...    True     True     True       3        2     2    1     1   \n",
       "4     False  ...    True    False    False       4        3     2    1     2   \n",
       "\n",
       "  health absences  \n",
       "0      3        6  \n",
       "1      3        4  \n",
       "2      3       10  \n",
       "3      5        2  \n",
       "4      5        4  \n",
       "\n",
       "[5 rows x 24 columns]"
      ]
     },
     "execution_count": 10,
     "metadata": {},
     "output_type": "execute_result"
    }
   ],
   "source": [
    "#features - Selecting the independent variables\n",
    "features = studentDS.iloc[:,1:25]\n",
    "print('Summary of feature sample')\n",
    "features.head()"
   ]
  },
  {
   "cell_type": "code",
   "execution_count": 11,
   "metadata": {},
   "outputs": [
    {
     "name": "stdout",
     "output_type": "stream",
     "text": [
      "0       D\n",
      "1       D\n",
      "2       D\n",
      "3       B\n",
      "4       D\n",
      "       ..\n",
      "1039    D\n",
      "1040    B\n",
      "1041    D\n",
      "1042    D\n",
      "1043    D\n",
      "Name: Final Grade, Length: 1044, dtype: category\n",
      "Categories (4, object): [A, B, C, D]\n"
     ]
    }
   ],
   "source": [
    "#selecting the dependent variable, in this case is the final grade\n",
    "depVar = studentDS['Final Grade']\n",
    "print(depVar)"
   ]
  },
  {
   "cell_type": "code",
   "execution_count": 12,
   "metadata": {},
   "outputs": [
    {
     "data": {
      "text/html": [
       "<div>\n",
       "<style scoped>\n",
       "    .dataframe tbody tr th:only-of-type {\n",
       "        vertical-align: middle;\n",
       "    }\n",
       "\n",
       "    .dataframe tbody tr th {\n",
       "        vertical-align: top;\n",
       "    }\n",
       "\n",
       "    .dataframe thead th {\n",
       "        text-align: right;\n",
       "    }\n",
       "</style>\n",
       "<table border=\"1\" class=\"dataframe\">\n",
       "  <thead>\n",
       "    <tr style=\"text-align: right;\">\n",
       "      <th></th>\n",
       "      <th>age</th>\n",
       "      <th>address</th>\n",
       "      <th>famsize</th>\n",
       "      <th>Pstatus</th>\n",
       "      <th>Medu</th>\n",
       "      <th>Fedu</th>\n",
       "      <th>traveltime</th>\n",
       "      <th>studytime</th>\n",
       "      <th>failures</th>\n",
       "      <th>schoolsup</th>\n",
       "      <th>...</th>\n",
       "      <th>higher</th>\n",
       "      <th>internet</th>\n",
       "      <th>romantic</th>\n",
       "      <th>famrel</th>\n",
       "      <th>freetime</th>\n",
       "      <th>goout</th>\n",
       "      <th>Dalc</th>\n",
       "      <th>Walc</th>\n",
       "      <th>health</th>\n",
       "      <th>absences</th>\n",
       "    </tr>\n",
       "  </thead>\n",
       "  <tbody>\n",
       "    <tr>\n",
       "      <td>0</td>\n",
       "      <td>18</td>\n",
       "      <td>1</td>\n",
       "      <td>0</td>\n",
       "      <td>0</td>\n",
       "      <td>4</td>\n",
       "      <td>4</td>\n",
       "      <td>2</td>\n",
       "      <td>2</td>\n",
       "      <td>0</td>\n",
       "      <td>True</td>\n",
       "      <td>...</td>\n",
       "      <td>True</td>\n",
       "      <td>False</td>\n",
       "      <td>False</td>\n",
       "      <td>4</td>\n",
       "      <td>3</td>\n",
       "      <td>4</td>\n",
       "      <td>1</td>\n",
       "      <td>1</td>\n",
       "      <td>3</td>\n",
       "      <td>6</td>\n",
       "    </tr>\n",
       "    <tr>\n",
       "      <td>1</td>\n",
       "      <td>17</td>\n",
       "      <td>1</td>\n",
       "      <td>0</td>\n",
       "      <td>1</td>\n",
       "      <td>1</td>\n",
       "      <td>1</td>\n",
       "      <td>1</td>\n",
       "      <td>2</td>\n",
       "      <td>0</td>\n",
       "      <td>False</td>\n",
       "      <td>...</td>\n",
       "      <td>True</td>\n",
       "      <td>True</td>\n",
       "      <td>False</td>\n",
       "      <td>5</td>\n",
       "      <td>3</td>\n",
       "      <td>3</td>\n",
       "      <td>1</td>\n",
       "      <td>1</td>\n",
       "      <td>3</td>\n",
       "      <td>4</td>\n",
       "    </tr>\n",
       "    <tr>\n",
       "      <td>2</td>\n",
       "      <td>15</td>\n",
       "      <td>1</td>\n",
       "      <td>1</td>\n",
       "      <td>1</td>\n",
       "      <td>1</td>\n",
       "      <td>1</td>\n",
       "      <td>1</td>\n",
       "      <td>2</td>\n",
       "      <td>3</td>\n",
       "      <td>True</td>\n",
       "      <td>...</td>\n",
       "      <td>True</td>\n",
       "      <td>True</td>\n",
       "      <td>False</td>\n",
       "      <td>4</td>\n",
       "      <td>3</td>\n",
       "      <td>2</td>\n",
       "      <td>2</td>\n",
       "      <td>3</td>\n",
       "      <td>3</td>\n",
       "      <td>10</td>\n",
       "    </tr>\n",
       "    <tr>\n",
       "      <td>3</td>\n",
       "      <td>15</td>\n",
       "      <td>1</td>\n",
       "      <td>0</td>\n",
       "      <td>1</td>\n",
       "      <td>4</td>\n",
       "      <td>2</td>\n",
       "      <td>1</td>\n",
       "      <td>3</td>\n",
       "      <td>0</td>\n",
       "      <td>False</td>\n",
       "      <td>...</td>\n",
       "      <td>True</td>\n",
       "      <td>True</td>\n",
       "      <td>True</td>\n",
       "      <td>3</td>\n",
       "      <td>2</td>\n",
       "      <td>2</td>\n",
       "      <td>1</td>\n",
       "      <td>1</td>\n",
       "      <td>5</td>\n",
       "      <td>2</td>\n",
       "    </tr>\n",
       "    <tr>\n",
       "      <td>4</td>\n",
       "      <td>16</td>\n",
       "      <td>1</td>\n",
       "      <td>0</td>\n",
       "      <td>1</td>\n",
       "      <td>3</td>\n",
       "      <td>3</td>\n",
       "      <td>1</td>\n",
       "      <td>2</td>\n",
       "      <td>0</td>\n",
       "      <td>False</td>\n",
       "      <td>...</td>\n",
       "      <td>True</td>\n",
       "      <td>False</td>\n",
       "      <td>False</td>\n",
       "      <td>4</td>\n",
       "      <td>3</td>\n",
       "      <td>2</td>\n",
       "      <td>1</td>\n",
       "      <td>2</td>\n",
       "      <td>5</td>\n",
       "      <td>4</td>\n",
       "    </tr>\n",
       "  </tbody>\n",
       "</table>\n",
       "<p>5 rows × 24 columns</p>\n",
       "</div>"
      ],
      "text/plain": [
       "   age address famsize Pstatus Medu Fedu traveltime studytime failures  \\\n",
       "0   18       1       0       0    4    4          2         2        0   \n",
       "1   17       1       0       1    1    1          1         2        0   \n",
       "2   15       1       1       1    1    1          1         2        3   \n",
       "3   15       1       0       1    4    2          1         3        0   \n",
       "4   16       1       0       1    3    3          1         2        0   \n",
       "\n",
       "  schoolsup  ...  higher internet romantic  famrel freetime goout Dalc  Walc  \\\n",
       "0      True  ...    True    False    False       4        3     4    1     1   \n",
       "1     False  ...    True     True    False       5        3     3    1     1   \n",
       "2      True  ...    True     True    False       4        3     2    2     3   \n",
       "3     False  ...    True     True     True       3        2     2    1     1   \n",
       "4     False  ...    True    False    False       4        3     2    1     2   \n",
       "\n",
       "  health absences  \n",
       "0      3        6  \n",
       "1      3        4  \n",
       "2      3       10  \n",
       "3      5        2  \n",
       "4      5        4  \n",
       "\n",
       "[5 rows x 24 columns]"
      ]
     },
     "execution_count": 12,
     "metadata": {},
     "output_type": "execute_result"
    }
   ],
   "source": [
    "#Training Set (Feature Space: X Training)\n",
    "X_train = (features[: 1045])\n",
    "X_train.head()"
   ]
  },
  {
   "cell_type": "code",
   "execution_count": 13,
   "metadata": {},
   "outputs": [
    {
     "name": "stdout",
     "output_type": "stream",
     "text": [
      "The number of observations in the Y training set are: 1044\n"
     ]
    },
    {
     "data": {
      "text/plain": [
       "0    D\n",
       "1    D\n",
       "2    D\n",
       "3    B\n",
       "4    D\n",
       "Name: Final Grade, dtype: category\n",
       "Categories (4, object): [A, B, C, D]"
      ]
     },
     "execution_count": 13,
     "metadata": {},
     "output_type": "execute_result"
    }
   ],
   "source": [
    "#Dependent Variable Training Set (y Training)\n",
    "y_train = depVar[: 1045]\n",
    "y_train_count = len(y_train.index)\n",
    "print('The number of observations in the Y training set are:',str(y_train_count))\n",
    "y_train.head()"
   ]
  },
  {
   "cell_type": "code",
   "execution_count": 14,
   "metadata": {},
   "outputs": [
    {
     "name": "stdout",
     "output_type": "stream",
     "text": [
      "The number of observations in the feature testing set is: 100\n",
      "     age address famsize Pstatus Medu Fedu traveltime studytime failures  \\\n",
      "944   17       0       0       1    4    2          2         2        0   \n",
      "945   16       1       1       0    2    2          2         2        0   \n",
      "946   17       1       0       1    3    2          2         2        0   \n",
      "947   19       1       0       1    1    1          1         2        2   \n",
      "948   17       1       1       0    1    0          1         1        0   \n",
      "\n",
      "    schoolsup  ...  higher internet romantic  famrel freetime goout Dalc  \\\n",
      "944      True  ...    True     True    False       4        3     3    2   \n",
      "945     False  ...    True     True     True       4        1     2    2   \n",
      "946     False  ...    True     True    False       4        1     2    2   \n",
      "947     False  ...   False     True    False       4        4     3    3   \n",
      "948     False  ...    True    False     True       4        1     2    1   \n",
      "\n",
      "     Walc health absences  \n",
      "944     3      5        0  \n",
      "945     2      5        0  \n",
      "946     2      1        0  \n",
      "947     4      4        2  \n",
      "948     1      5        4  \n",
      "\n",
      "[5 rows x 24 columns]\n"
     ]
    }
   ],
   "source": [
    "#Testing Set (X Testing)\n",
    "X_test = features[-100:]\n",
    "X_test_count = len(X_test.index)\n",
    "print('The number of observations in the feature testing set is:',str(X_test_count))\n",
    "print(X_test.head())"
   ]
  },
  {
   "cell_type": "code",
   "execution_count": 15,
   "metadata": {},
   "outputs": [
    {
     "name": "stdout",
     "output_type": "stream",
     "text": [
      "The number of observations in the Y training set are: 100\n"
     ]
    },
    {
     "data": {
      "text/plain": [
       "944    A\n",
       "945    C\n",
       "946    C\n",
       "947    D\n",
       "948    D\n",
       "Name: Final Grade, dtype: category\n",
       "Categories (4, object): [A, B, C, D]"
      ]
     },
     "execution_count": 15,
     "metadata": {},
     "output_type": "execute_result"
    }
   ],
   "source": [
    "#Ground Truth (y_test) \n",
    "y_test = depVar[-100:]\n",
    "y_test_count = len(y_test.index)\n",
    "print('The number of observations in the Y training set are:',str(y_test_count))\n",
    "y_test.head()"
   ]
  },
  {
   "cell_type": "code",
   "execution_count": 16,
   "metadata": {},
   "outputs": [],
   "source": [
    "#Cross Validation\n",
    "X_train, X_test, y_train, y_test = train_test_split(features,depVar)\n"
   ]
  },
  {
   "cell_type": "code",
   "execution_count": 17,
   "metadata": {},
   "outputs": [
    {
     "data": {
      "text/plain": [
       "((783, 24), (261, 24))"
      ]
     },
     "execution_count": 17,
     "metadata": {},
     "output_type": "execute_result"
    }
   ],
   "source": [
    "X_train.shape, X_test.shape\n"
   ]
  },
  {
   "cell_type": "code",
   "execution_count": 18,
   "metadata": {},
   "outputs": [
    {
     "data": {
      "text/plain": [
       "((587, 24), (196, 24))"
      ]
     },
     "execution_count": 18,
     "metadata": {},
     "output_type": "execute_result"
    }
   ],
   "source": [
    "X_train, X_test, y_train, y_test = train_test_split(X_train, y_train)\n",
    "X_train.shape, X_test.shape"
   ]
  },
  {
   "cell_type": "code",
   "execution_count": 19,
   "metadata": {
    "scrolled": true
   },
   "outputs": [
    {
     "data": {
      "text/plain": [
       "RandomForestClassifier(bootstrap=True, ccp_alpha=0.0, class_weight=None,\n",
       "                       criterion='gini', max_depth=None, max_features='auto',\n",
       "                       max_leaf_nodes=None, max_samples=None,\n",
       "                       min_impurity_decrease=0.0, min_impurity_split=None,\n",
       "                       min_samples_leaf=1, min_samples_split=5,\n",
       "                       min_weight_fraction_leaf=0.0, n_estimators=100,\n",
       "                       n_jobs=None, oob_score=False, random_state=None,\n",
       "                       verbose=0, warm_start=False)"
      ]
     },
     "execution_count": 19,
     "metadata": {},
     "output_type": "execute_result"
    }
   ],
   "source": [
    "#working in the RF Model first\n",
    "#Model #1\n",
    "modelRF = RandomForestClassifier( n_estimators = 100, min_samples_split = 5, max_features = 'auto')\n",
    "modelRF.fit(X_train,y_train)\n",
    "\n"
   ]
  },
  {
   "cell_type": "code",
   "execution_count": 20,
   "metadata": {},
   "outputs": [
    {
     "data": {
      "text/plain": [
       "GridSearchCV(cv=None, error_score=nan,\n",
       "             estimator=KNeighborsClassifier(algorithm='auto', leaf_size=30,\n",
       "                                            metric='minkowski',\n",
       "                                            metric_params=None, n_jobs=None,\n",
       "                                            n_neighbors=5, p=2,\n",
       "                                            weights='uniform'),\n",
       "             iid='deprecated', n_jobs=None,\n",
       "             param_grid={'algorithm': ['auto', 'kd_tree'],\n",
       "                         'leaf_size': [1, 3, 5], 'n_jobs': [-1],\n",
       "                         'n_neighbors': [4, 5, 6, 7]},\n",
       "             pre_dispatch='2*n_jobs', refit=True, return_train_score=False,\n",
       "             scoring=None, verbose=0)"
      ]
     },
     "execution_count": 20,
     "metadata": {},
     "output_type": "execute_result"
    }
   ],
   "source": [
    "#working in KNN model\n",
    "#Model #2\n",
    "modelKNN = KNeighborsClassifier()\n",
    "parameters = {'n_neighbors':[4,5,6,7],\n",
    "              'leaf_size':[1,3,5],\n",
    "              'algorithm':['auto', 'kd_tree'],\n",
    "              'n_jobs':[-1]}\n",
    "\n",
    "#Fit the model\n",
    "modelKNN = GridSearchCV(modelKNN, param_grid=parameters)\n",
    "modelKNN.fit(X_train,y_train)"
   ]
  },
  {
   "cell_type": "code",
   "execution_count": 21,
   "metadata": {},
   "outputs": [
    {
     "data": {
      "text/plain": [
       "GridSearchCV(cv=None, error_score=nan,\n",
       "             estimator=SVC(C=1.0, break_ties=False, cache_size=200,\n",
       "                           class_weight=None, coef0=0.0,\n",
       "                           decision_function_shape='ovr', degree=3,\n",
       "                           gamma='scale', kernel='rbf', max_iter=-1,\n",
       "                           probability=False, random_state=None, shrinking=True,\n",
       "                           tol=0.001, verbose=False),\n",
       "             iid='deprecated', n_jobs=None,\n",
       "             param_grid={'C': [0.1, 1, 10],\n",
       "                         'gamma': [1, 0.1, 0.01, 0.001, 0.0001],\n",
       "                         'kernel': ['rbf']},\n",
       "             pre_dispatch='2*n_jobs', refit=True, return_train_score=False,\n",
       "             scoring=None, verbose=0)"
      ]
     },
     "execution_count": 21,
     "metadata": {},
     "output_type": "execute_result"
    }
   ],
   "source": [
    "#working in the SVC Model\n",
    "#Model #3\n",
    "# defining parameter range \n",
    "modelSVC = SVC()\n",
    "param_grid = {'C': [0.1, 1, 10],  \n",
    "              'gamma': [1, 0.1, 0.01, 0.001, 0.0001], \n",
    "              'kernel': ['rbf']}  \n",
    "  \n",
    "modelSVC = GridSearchCV(SVC(), param_grid, refit = True) \n",
    "  \n",
    "# fitting the model for grid search \n",
    "modelSVC.fit(X_train, y_train) "
   ]
  },
  {
   "cell_type": "code",
   "execution_count": 22,
   "metadata": {},
   "outputs": [
    {
     "name": "stdout",
     "output_type": "stream",
     "text": [
      "[0.58474576 0.59322034 0.58119658 0.58974359 0.60683761]\n"
     ]
    },
    {
     "data": {
      "text/plain": [
       "0.9914821124361158"
      ]
     },
     "execution_count": 22,
     "metadata": {},
     "output_type": "execute_result"
    }
   ],
   "source": [
    "#Choosing the Right Model\n",
    "print(cross_val_score(modelSVC, X_train, y_train))\n",
    "modelSVC.score(X_train,y_train)"
   ]
  },
  {
   "cell_type": "code",
   "execution_count": 23,
   "metadata": {},
   "outputs": [
    {
     "name": "stdout",
     "output_type": "stream",
     "text": [
      "[0.60169492 0.58474576 0.64102564 0.60683761 0.5982906 ]\n"
     ]
    },
    {
     "data": {
      "text/plain": [
       "0.9352640545144804"
      ]
     },
     "execution_count": 23,
     "metadata": {},
     "output_type": "execute_result"
    }
   ],
   "source": [
    "#Best Model\n",
    "print(cross_val_score(modelRF, X_train, y_train))\n",
    "modelRF.score(X_train,y_train)"
   ]
  },
  {
   "cell_type": "code",
   "execution_count": 24,
   "metadata": {},
   "outputs": [
    {
     "name": "stdout",
     "output_type": "stream",
     "text": [
      "[0.48305085 0.49152542 0.56410256 0.60683761 0.55555556]\n"
     ]
    },
    {
     "data": {
      "text/plain": [
       "0.6678023850085179"
      ]
     },
     "execution_count": 24,
     "metadata": {},
     "output_type": "execute_result"
    }
   ],
   "source": [
    "print(cross_val_score(modelKNN, X_train, y_train))\n",
    "modelKNN.score(X_train,y_train)"
   ]
  },
  {
   "cell_type": "code",
   "execution_count": 25,
   "metadata": {},
   "outputs": [],
   "source": [
    "#Doing the predictions with the 3 models and cheking the accuracy\n",
    "RF_predict = modelRF.predict(X_test)\n",
    "KNN_predict = modelKNN.predict(X_test)\n",
    "SVC_predict = modelSVC.predict(X_test)"
   ]
  },
  {
   "cell_type": "code",
   "execution_count": 26,
   "metadata": {},
   "outputs": [
    {
     "data": {
      "text/plain": [
       "0.6938775510204082"
      ]
     },
     "execution_count": 26,
     "metadata": {},
     "output_type": "execute_result"
    }
   ],
   "source": [
    "#Best Model\n",
    "accuracy_score(y_test, RF_predict)"
   ]
  },
  {
   "cell_type": "code",
   "execution_count": 27,
   "metadata": {},
   "outputs": [
    {
     "data": {
      "text/plain": [
       "0.5969387755102041"
      ]
     },
     "execution_count": 27,
     "metadata": {},
     "output_type": "execute_result"
    }
   ],
   "source": [
    "accuracy_score(y_test, KNN_predict)"
   ]
  },
  {
   "cell_type": "code",
   "execution_count": 28,
   "metadata": {},
   "outputs": [
    {
     "data": {
      "text/plain": [
       "0.673469387755102"
      ]
     },
     "execution_count": 28,
     "metadata": {},
     "output_type": "execute_result"
    }
   ],
   "source": [
    "accuracy_score(y_test, SVC_predict)"
   ]
  },
  {
   "cell_type": "code",
   "execution_count": 29,
   "metadata": {},
   "outputs": [
    {
     "data": {
      "text/plain": [
       "<matplotlib.collections.PathCollection at 0x1a1b2559d0>"
      ]
     },
     "execution_count": 29,
     "metadata": {},
     "output_type": "execute_result"
    },
    {
     "data": {
      "image/png": "[encoded data removed]",
      "text/plain": [
       "<Figure size 648x216 with 1 Axes>"
      ]
     },
     "metadata": {
      "needs_background": "light"
     },
     "output_type": "display_data"
    }
   ],
   "source": [
    "#plotting the accuracy of the tuned models\n",
    "\n",
    "knnplot=accuracy_score(y_test, KNN_predict)\n",
    "svmplot=accuracy_score(y_test, SVC_predict)\n",
    "rfplot=accuracy_score(y_test, RF_predict)\n",
    "names = ['KNN', 'SVC', 'RF']\n",
    "values = [knnplot, svmplot, rfplot]\n",
    "\n",
    "plt.figure(figsize=(9, 3))\n",
    "\n",
    "plt.subplot(131)\n",
    "plt.xlabel('Model')\n",
    "plt.ylabel('Accuracy')\n",
    "plt.scatter(names, values)"
   ]
  },
  {
   "cell_type": "code",
   "execution_count": 64,
   "metadata": {},
   "outputs": [],
   "source": [
    "#Performing adjustments , I will do the predictions based only on Fail or pass , instead of A,B,C,D grades \n",
    "studentDS3 = pd.read_csv('/Users/moramoga/Documents/Big Data/Course 5 /Task 5 Capstone/Encoded Dataset 3.csv', header =0)\n",
    "\n"
   ]
  },
  {
   "cell_type": "code",
   "execution_count": 65,
   "metadata": {},
   "outputs": [],
   "source": [
    "#change the data to the correct types\n",
    "studentDS3 = studentDS3.astype({\"health\":'category',\"goout\":'category',\"Dalc\":'category',\"Fedu\":'category',\"Medu\":'category',\"Final Grade\":'category',\"Walc\":'category',\"absences\":'category',\"freetime\":'category',\"romantic\":'category',\"internet\":'category',\"higher\":'category',\"activities\":'category',\"paid\":'category',\"schoolsup\":'category',\"failures\":'category',\"studytime\":'category',\"sex\":'category', \"age\":'int', \"address\":'category',\"famsize\":'category',\"Pstatus\":'category',\"traveltime\":'category',}) "
   ]
  },
  {
   "cell_type": "code",
   "execution_count": 66,
   "metadata": {},
   "outputs": [
    {
     "name": "stdout",
     "output_type": "stream",
     "text": [
      "Summary of feature sample\n"
     ]
    },
    {
     "data": {
      "text/html": [
       "<div>\n",
       "<style scoped>\n",
       "    .dataframe tbody tr th:only-of-type {\n",
       "        vertical-align: middle;\n",
       "    }\n",
       "\n",
       "    .dataframe tbody tr th {\n",
       "        vertical-align: top;\n",
       "    }\n",
       "\n",
       "    .dataframe thead th {\n",
       "        text-align: right;\n",
       "    }\n",
       "</style>\n",
       "<table border=\"1\" class=\"dataframe\">\n",
       "  <thead>\n",
       "    <tr style=\"text-align: right;\">\n",
       "      <th></th>\n",
       "      <th>age</th>\n",
       "      <th>address</th>\n",
       "      <th>famsize</th>\n",
       "      <th>Pstatus</th>\n",
       "      <th>Medu</th>\n",
       "      <th>Fedu</th>\n",
       "      <th>traveltime</th>\n",
       "      <th>studytime</th>\n",
       "      <th>failures</th>\n",
       "      <th>schoolsup</th>\n",
       "      <th>...</th>\n",
       "      <th>higher</th>\n",
       "      <th>internet</th>\n",
       "      <th>romantic</th>\n",
       "      <th>famrel</th>\n",
       "      <th>freetime</th>\n",
       "      <th>goout</th>\n",
       "      <th>Dalc</th>\n",
       "      <th>Walc</th>\n",
       "      <th>health</th>\n",
       "      <th>absences</th>\n",
       "    </tr>\n",
       "  </thead>\n",
       "  <tbody>\n",
       "    <tr>\n",
       "      <td>0</td>\n",
       "      <td>18</td>\n",
       "      <td>1</td>\n",
       "      <td>0</td>\n",
       "      <td>0</td>\n",
       "      <td>4</td>\n",
       "      <td>4</td>\n",
       "      <td>2</td>\n",
       "      <td>2</td>\n",
       "      <td>0</td>\n",
       "      <td>True</td>\n",
       "      <td>...</td>\n",
       "      <td>True</td>\n",
       "      <td>False</td>\n",
       "      <td>False</td>\n",
       "      <td>4</td>\n",
       "      <td>3</td>\n",
       "      <td>4</td>\n",
       "      <td>1</td>\n",
       "      <td>1</td>\n",
       "      <td>3</td>\n",
       "      <td>6</td>\n",
       "    </tr>\n",
       "    <tr>\n",
       "      <td>1</td>\n",
       "      <td>17</td>\n",
       "      <td>1</td>\n",
       "      <td>0</td>\n",
       "      <td>1</td>\n",
       "      <td>1</td>\n",
       "      <td>1</td>\n",
       "      <td>1</td>\n",
       "      <td>2</td>\n",
       "      <td>0</td>\n",
       "      <td>False</td>\n",
       "      <td>...</td>\n",
       "      <td>True</td>\n",
       "      <td>True</td>\n",
       "      <td>False</td>\n",
       "      <td>5</td>\n",
       "      <td>3</td>\n",
       "      <td>3</td>\n",
       "      <td>1</td>\n",
       "      <td>1</td>\n",
       "      <td>3</td>\n",
       "      <td>4</td>\n",
       "    </tr>\n",
       "    <tr>\n",
       "      <td>2</td>\n",
       "      <td>15</td>\n",
       "      <td>1</td>\n",
       "      <td>1</td>\n",
       "      <td>1</td>\n",
       "      <td>1</td>\n",
       "      <td>1</td>\n",
       "      <td>1</td>\n",
       "      <td>2</td>\n",
       "      <td>3</td>\n",
       "      <td>True</td>\n",
       "      <td>...</td>\n",
       "      <td>True</td>\n",
       "      <td>True</td>\n",
       "      <td>False</td>\n",
       "      <td>4</td>\n",
       "      <td>3</td>\n",
       "      <td>2</td>\n",
       "      <td>2</td>\n",
       "      <td>3</td>\n",
       "      <td>3</td>\n",
       "      <td>10</td>\n",
       "    </tr>\n",
       "    <tr>\n",
       "      <td>3</td>\n",
       "      <td>15</td>\n",
       "      <td>1</td>\n",
       "      <td>0</td>\n",
       "      <td>1</td>\n",
       "      <td>4</td>\n",
       "      <td>2</td>\n",
       "      <td>1</td>\n",
       "      <td>3</td>\n",
       "      <td>0</td>\n",
       "      <td>False</td>\n",
       "      <td>...</td>\n",
       "      <td>True</td>\n",
       "      <td>True</td>\n",
       "      <td>True</td>\n",
       "      <td>3</td>\n",
       "      <td>2</td>\n",
       "      <td>2</td>\n",
       "      <td>1</td>\n",
       "      <td>1</td>\n",
       "      <td>5</td>\n",
       "      <td>2</td>\n",
       "    </tr>\n",
       "    <tr>\n",
       "      <td>4</td>\n",
       "      <td>16</td>\n",
       "      <td>1</td>\n",
       "      <td>0</td>\n",
       "      <td>1</td>\n",
       "      <td>3</td>\n",
       "      <td>3</td>\n",
       "      <td>1</td>\n",
       "      <td>2</td>\n",
       "      <td>0</td>\n",
       "      <td>False</td>\n",
       "      <td>...</td>\n",
       "      <td>True</td>\n",
       "      <td>False</td>\n",
       "      <td>False</td>\n",
       "      <td>4</td>\n",
       "      <td>3</td>\n",
       "      <td>2</td>\n",
       "      <td>1</td>\n",
       "      <td>2</td>\n",
       "      <td>5</td>\n",
       "      <td>4</td>\n",
       "    </tr>\n",
       "  </tbody>\n",
       "</table>\n",
       "<p>5 rows × 24 columns</p>\n",
       "</div>"
      ],
      "text/plain": [
       "   age address famsize Pstatus Medu Fedu traveltime studytime failures  \\\n",
       "0   18       1       0       0    4    4          2         2        0   \n",
       "1   17       1       0       1    1    1          1         2        0   \n",
       "2   15       1       1       1    1    1          1         2        3   \n",
       "3   15       1       0       1    4    2          1         3        0   \n",
       "4   16       1       0       1    3    3          1         2        0   \n",
       "\n",
       "  schoolsup  ...  higher internet romantic  famrel freetime goout Dalc  Walc  \\\n",
       "0      True  ...    True    False    False       4        3     4    1     1   \n",
       "1     False  ...    True     True    False       5        3     3    1     1   \n",
       "2      True  ...    True     True    False       4        3     2    2     3   \n",
       "3     False  ...    True     True     True       3        2     2    1     1   \n",
       "4     False  ...    True    False    False       4        3     2    1     2   \n",
       "\n",
       "  health absences  \n",
       "0      3        6  \n",
       "1      3        4  \n",
       "2      3       10  \n",
       "3      5        2  \n",
       "4      5        4  \n",
       "\n",
       "[5 rows x 24 columns]"
      ]
     },
     "execution_count": 66,
     "metadata": {},
     "output_type": "execute_result"
    }
   ],
   "source": [
    "#features - Selecting the independent variables\n",
    "features2 = studentDS3.iloc[:,1:25]\n",
    "print('Summary of feature sample')\n",
    "features2.head()"
   ]
  },
  {
   "cell_type": "code",
   "execution_count": 67,
   "metadata": {},
   "outputs": [
    {
     "name": "stdout",
     "output_type": "stream",
     "text": [
      "0       F\n",
      "1       F\n",
      "2       F\n",
      "3       P\n",
      "4       F\n",
      "       ..\n",
      "1039    F\n",
      "1040    P\n",
      "1041    F\n",
      "1042    F\n",
      "1043    F\n",
      "Name: Final Grade, Length: 1044, dtype: category\n",
      "Categories (2, object): [F, P]\n"
     ]
    }
   ],
   "source": [
    "#selecting the dependent variable, in this case is the final grade\n",
    "depVar2 = studentDS3['Final Grade']\n",
    "print(depVar2)"
   ]
  },
  {
   "cell_type": "code",
   "execution_count": 74,
   "metadata": {},
   "outputs": [
    {
     "data": {
      "text/html": [
       "<div>\n",
       "<style scoped>\n",
       "    .dataframe tbody tr th:only-of-type {\n",
       "        vertical-align: middle;\n",
       "    }\n",
       "\n",
       "    .dataframe tbody tr th {\n",
       "        vertical-align: top;\n",
       "    }\n",
       "\n",
       "    .dataframe thead th {\n",
       "        text-align: right;\n",
       "    }\n",
       "</style>\n",
       "<table border=\"1\" class=\"dataframe\">\n",
       "  <thead>\n",
       "    <tr style=\"text-align: right;\">\n",
       "      <th></th>\n",
       "      <th>age</th>\n",
       "      <th>address</th>\n",
       "      <th>famsize</th>\n",
       "      <th>Pstatus</th>\n",
       "      <th>Medu</th>\n",
       "      <th>Fedu</th>\n",
       "      <th>traveltime</th>\n",
       "      <th>studytime</th>\n",
       "      <th>failures</th>\n",
       "      <th>schoolsup</th>\n",
       "      <th>...</th>\n",
       "      <th>higher</th>\n",
       "      <th>internet</th>\n",
       "      <th>romantic</th>\n",
       "      <th>famrel</th>\n",
       "      <th>freetime</th>\n",
       "      <th>goout</th>\n",
       "      <th>Dalc</th>\n",
       "      <th>Walc</th>\n",
       "      <th>health</th>\n",
       "      <th>absences</th>\n",
       "    </tr>\n",
       "  </thead>\n",
       "  <tbody>\n",
       "    <tr>\n",
       "      <td>0</td>\n",
       "      <td>18</td>\n",
       "      <td>1</td>\n",
       "      <td>0</td>\n",
       "      <td>0</td>\n",
       "      <td>4</td>\n",
       "      <td>4</td>\n",
       "      <td>2</td>\n",
       "      <td>2</td>\n",
       "      <td>0</td>\n",
       "      <td>True</td>\n",
       "      <td>...</td>\n",
       "      <td>True</td>\n",
       "      <td>False</td>\n",
       "      <td>False</td>\n",
       "      <td>4</td>\n",
       "      <td>3</td>\n",
       "      <td>4</td>\n",
       "      <td>1</td>\n",
       "      <td>1</td>\n",
       "      <td>3</td>\n",
       "      <td>6</td>\n",
       "    </tr>\n",
       "    <tr>\n",
       "      <td>1</td>\n",
       "      <td>17</td>\n",
       "      <td>1</td>\n",
       "      <td>0</td>\n",
       "      <td>1</td>\n",
       "      <td>1</td>\n",
       "      <td>1</td>\n",
       "      <td>1</td>\n",
       "      <td>2</td>\n",
       "      <td>0</td>\n",
       "      <td>False</td>\n",
       "      <td>...</td>\n",
       "      <td>True</td>\n",
       "      <td>True</td>\n",
       "      <td>False</td>\n",
       "      <td>5</td>\n",
       "      <td>3</td>\n",
       "      <td>3</td>\n",
       "      <td>1</td>\n",
       "      <td>1</td>\n",
       "      <td>3</td>\n",
       "      <td>4</td>\n",
       "    </tr>\n",
       "    <tr>\n",
       "      <td>2</td>\n",
       "      <td>15</td>\n",
       "      <td>1</td>\n",
       "      <td>1</td>\n",
       "      <td>1</td>\n",
       "      <td>1</td>\n",
       "      <td>1</td>\n",
       "      <td>1</td>\n",
       "      <td>2</td>\n",
       "      <td>3</td>\n",
       "      <td>True</td>\n",
       "      <td>...</td>\n",
       "      <td>True</td>\n",
       "      <td>True</td>\n",
       "      <td>False</td>\n",
       "      <td>4</td>\n",
       "      <td>3</td>\n",
       "      <td>2</td>\n",
       "      <td>2</td>\n",
       "      <td>3</td>\n",
       "      <td>3</td>\n",
       "      <td>10</td>\n",
       "    </tr>\n",
       "    <tr>\n",
       "      <td>3</td>\n",
       "      <td>15</td>\n",
       "      <td>1</td>\n",
       "      <td>0</td>\n",
       "      <td>1</td>\n",
       "      <td>4</td>\n",
       "      <td>2</td>\n",
       "      <td>1</td>\n",
       "      <td>3</td>\n",
       "      <td>0</td>\n",
       "      <td>False</td>\n",
       "      <td>...</td>\n",
       "      <td>True</td>\n",
       "      <td>True</td>\n",
       "      <td>True</td>\n",
       "      <td>3</td>\n",
       "      <td>2</td>\n",
       "      <td>2</td>\n",
       "      <td>1</td>\n",
       "      <td>1</td>\n",
       "      <td>5</td>\n",
       "      <td>2</td>\n",
       "    </tr>\n",
       "    <tr>\n",
       "      <td>4</td>\n",
       "      <td>16</td>\n",
       "      <td>1</td>\n",
       "      <td>0</td>\n",
       "      <td>1</td>\n",
       "      <td>3</td>\n",
       "      <td>3</td>\n",
       "      <td>1</td>\n",
       "      <td>2</td>\n",
       "      <td>0</td>\n",
       "      <td>False</td>\n",
       "      <td>...</td>\n",
       "      <td>True</td>\n",
       "      <td>False</td>\n",
       "      <td>False</td>\n",
       "      <td>4</td>\n",
       "      <td>3</td>\n",
       "      <td>2</td>\n",
       "      <td>1</td>\n",
       "      <td>2</td>\n",
       "      <td>5</td>\n",
       "      <td>4</td>\n",
       "    </tr>\n",
       "  </tbody>\n",
       "</table>\n",
       "<p>5 rows × 24 columns</p>\n",
       "</div>"
      ],
      "text/plain": [
       "   age address famsize Pstatus Medu Fedu traveltime studytime failures  \\\n",
       "0   18       1       0       0    4    4          2         2        0   \n",
       "1   17       1       0       1    1    1          1         2        0   \n",
       "2   15       1       1       1    1    1          1         2        3   \n",
       "3   15       1       0       1    4    2          1         3        0   \n",
       "4   16       1       0       1    3    3          1         2        0   \n",
       "\n",
       "  schoolsup  ...  higher internet romantic  famrel freetime goout Dalc  Walc  \\\n",
       "0      True  ...    True    False    False       4        3     4    1     1   \n",
       "1     False  ...    True     True    False       5        3     3    1     1   \n",
       "2      True  ...    True     True    False       4        3     2    2     3   \n",
       "3     False  ...    True     True     True       3        2     2    1     1   \n",
       "4     False  ...    True    False    False       4        3     2    1     2   \n",
       "\n",
       "  health absences  \n",
       "0      3        6  \n",
       "1      3        4  \n",
       "2      3       10  \n",
       "3      5        2  \n",
       "4      5        4  \n",
       "\n",
       "[5 rows x 24 columns]"
      ]
     },
     "execution_count": 74,
     "metadata": {},
     "output_type": "execute_result"
    }
   ],
   "source": [
    "#Training Set (Feature Space: X Training)\n",
    "X_train2 = (features2[: 1045])\n",
    "X_train2.head()"
   ]
  },
  {
   "cell_type": "code",
   "execution_count": 69,
   "metadata": {},
   "outputs": [
    {
     "name": "stdout",
     "output_type": "stream",
     "text": [
      "The number of observations in the Y training set are: 1044\n"
     ]
    },
    {
     "data": {
      "text/plain": [
       "0    F\n",
       "1    F\n",
       "2    F\n",
       "3    P\n",
       "4    F\n",
       "Name: Final Grade, dtype: category\n",
       "Categories (2, object): [F, P]"
      ]
     },
     "execution_count": 69,
     "metadata": {},
     "output_type": "execute_result"
    }
   ],
   "source": [
    "#Dependent Variable Training Set (y Training)\n",
    "y_train2 = depVar2[: 1045]\n",
    "y_train_count = len(y_train2.index)\n",
    "print('The number of observations in the Y training set are:',str(y_train_count))\n",
    "y_train2.head()"
   ]
  },
  {
   "cell_type": "code",
   "execution_count": 70,
   "metadata": {},
   "outputs": [
    {
     "name": "stdout",
     "output_type": "stream",
     "text": [
      "The number of observations in the feature testing set is: 100\n",
      "     age address famsize Pstatus Medu Fedu traveltime studytime failures  \\\n",
      "944   17       0       0       1    4    2          2         2        0   \n",
      "945   16       1       1       0    2    2          2         2        0   \n",
      "946   17       1       0       1    3    2          2         2        0   \n",
      "947   19       1       0       1    1    1          1         2        2   \n",
      "948   17       1       1       0    1    0          1         1        0   \n",
      "\n",
      "    schoolsup  ...  higher internet romantic  famrel freetime goout Dalc  \\\n",
      "944      True  ...    True     True    False       4        3     3    2   \n",
      "945     False  ...    True     True     True       4        1     2    2   \n",
      "946     False  ...    True     True    False       4        1     2    2   \n",
      "947     False  ...   False     True    False       4        4     3    3   \n",
      "948     False  ...    True    False     True       4        1     2    1   \n",
      "\n",
      "     Walc health absences  \n",
      "944     3      5        0  \n",
      "945     2      5        0  \n",
      "946     2      1        0  \n",
      "947     4      4        2  \n",
      "948     1      5        4  \n",
      "\n",
      "[5 rows x 24 columns]\n"
     ]
    }
   ],
   "source": [
    "#Testing Set (X Testing)\n",
    "X_test2 = features[-100:]\n",
    "X_test_count = len(X_test2.index)\n",
    "print('The number of observations in the feature testing set is:',str(X_test_count))\n",
    "print(X_test2.head())"
   ]
  },
  {
   "cell_type": "code",
   "execution_count": 72,
   "metadata": {},
   "outputs": [
    {
     "name": "stdout",
     "output_type": "stream",
     "text": [
      "The number of observations in the Y training set are: 100\n"
     ]
    },
    {
     "data": {
      "text/plain": [
       "944    P\n",
       "945    P\n",
       "946    P\n",
       "947    F\n",
       "948    F\n",
       "Name: Final Grade, dtype: category\n",
       "Categories (2, object): [F, P]"
      ]
     },
     "execution_count": 72,
     "metadata": {},
     "output_type": "execute_result"
    }
   ],
   "source": [
    "#Ground Truth (y_test) \n",
    "y_test2 = depVar2[-100:]\n",
    "y_test_count = len(y_test2.index)\n",
    "print('The number of observations in the Y training set are:',str(y_test_count))\n",
    "y_test2.head()"
   ]
  },
  {
   "cell_type": "code",
   "execution_count": 76,
   "metadata": {},
   "outputs": [],
   "source": [
    "#Cross Validation\n",
    "X_train2, X_test2, y_train2, y_test2 = train_test_split(features2,depVar2)"
   ]
  },
  {
   "cell_type": "code",
   "execution_count": 84,
   "metadata": {},
   "outputs": [
    {
     "data": {
      "text/plain": [
       "((587, 24), (196, 24))"
      ]
     },
     "execution_count": 84,
     "metadata": {},
     "output_type": "execute_result"
    }
   ],
   "source": [
    "X_train2.shape, X_test2.shape\n"
   ]
  },
  {
   "cell_type": "code",
   "execution_count": 78,
   "metadata": {},
   "outputs": [
    {
     "data": {
      "text/plain": [
       "((587, 24), (196, 24))"
      ]
     },
     "execution_count": 78,
     "metadata": {},
     "output_type": "execute_result"
    }
   ],
   "source": [
    "X_train2, X_test2, y_train2, y_test2 = train_test_split(X_train2, y_train2)\n",
    "X_train2.shape, X_test2.shape"
   ]
  },
  {
   "cell_type": "code",
   "execution_count": 79,
   "metadata": {},
   "outputs": [
    {
     "data": {
      "text/plain": [
       "RandomForestClassifier(bootstrap=True, ccp_alpha=0.0, class_weight=None,\n",
       "                       criterion='gini', max_depth=None, max_features='auto',\n",
       "                       max_leaf_nodes=None, max_samples=None,\n",
       "                       min_impurity_decrease=0.0, min_impurity_split=None,\n",
       "                       min_samples_leaf=1, min_samples_split=5,\n",
       "                       min_weight_fraction_leaf=0.0, n_estimators=100,\n",
       "                       n_jobs=None, oob_score=False, random_state=None,\n",
       "                       verbose=0, warm_start=False)"
      ]
     },
     "execution_count": 79,
     "metadata": {},
     "output_type": "execute_result"
    }
   ],
   "source": [
    "modelRF2 = RandomForestClassifier( n_estimators = 100, min_samples_split = 5, max_features = 'auto')\n",
    "modelRF2.fit(X_train2,y_train2)"
   ]
  },
  {
   "cell_type": "code",
   "execution_count": 80,
   "metadata": {},
   "outputs": [
    {
     "name": "stdout",
     "output_type": "stream",
     "text": [
      "[0.74576271 0.73728814 0.7008547  0.77777778 0.77777778]\n"
     ]
    },
    {
     "data": {
      "text/plain": [
       "0.0"
      ]
     },
     "execution_count": 80,
     "metadata": {},
     "output_type": "execute_result"
    }
   ],
   "source": [
    "print(cross_val_score(modelRF2, X_train2, y_train2))\n",
    "modelRF.score(X_train2,y_train2)"
   ]
  },
  {
   "cell_type": "code",
   "execution_count": 82,
   "metadata": {},
   "outputs": [],
   "source": [
    "#prediction \n",
    "RF_predict2 = modelRF2.predict(X_test2)\n"
   ]
  },
  {
   "cell_type": "code",
   "execution_count": 83,
   "metadata": {},
   "outputs": [
    {
     "data": {
      "text/plain": [
       "0.7346938775510204"
      ]
     },
     "execution_count": 83,
     "metadata": {},
     "output_type": "execute_result"
    }
   ],
   "source": [
    "#accuracy\n",
    "accuracy_score(y_test2, RF_predict2)"
   ]
  },
  {
   "cell_type": "code",
   "execution_count": null,
   "metadata": {},
   "outputs": [],
   "source": []
  }
 ],
 "metadata": {
  "kernelspec": {
   "display_name": "Python 3",
   "language": "python",
   "name": "python3"
  },
  "language_info": {
   "codemirror_mode": {
    "name": "ipython",
    "version": 3
   },
   "file_extension": ".py",
   "mimetype": "text/x-python",
   "name": "python",
   "nbconvert_exporter": "python",
   "pygments_lexer": "ipython3",
   "version": "3.7.4"
  }
 },
 "nbformat": 4,
 "nbformat_minor": 2
}
