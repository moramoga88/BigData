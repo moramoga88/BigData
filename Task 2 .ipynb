{
 "cells": [
  {
   "cell_type": "code",
   "execution_count": 1,
   "metadata": {},
   "outputs": [],
   "source": [
    "import pandas as pd\n",
    "import numpy as np # linear algebra"
   ]
  },
  {
   "cell_type": "code",
   "execution_count": 2,
   "metadata": {},
   "outputs": [],
   "source": [
    "credit = pd.read_csv('/Users/moramoga/Documents/Big Data/Course 5 /Task#1/default of credit card clients .csv', header =0)\n",
    "\n"
   ]
  },
  {
   "cell_type": "code",
   "execution_count": 3,
   "metadata": {},
   "outputs": [
    {
     "data": {
      "text/html": [
       "<div>\n",
       "<style scoped>\n",
       "    .dataframe tbody tr th:only-of-type {\n",
       "        vertical-align: middle;\n",
       "    }\n",
       "\n",
       "    .dataframe tbody tr th {\n",
       "        vertical-align: top;\n",
       "    }\n",
       "\n",
       "    .dataframe thead th {\n",
       "        text-align: right;\n",
       "    }\n",
       "</style>\n",
       "<table border=\"1\" class=\"dataframe\">\n",
       "  <thead>\n",
       "    <tr style=\"text-align: right;\">\n",
       "      <th></th>\n",
       "      <th>ID</th>\n",
       "      <th>LIMIT_BAL</th>\n",
       "      <th>SEX</th>\n",
       "      <th>EDUCATION</th>\n",
       "      <th>MARRIAGE</th>\n",
       "      <th>AGE</th>\n",
       "      <th>SeptemberPay</th>\n",
       "      <th>AugustPay</th>\n",
       "      <th>JulyPay</th>\n",
       "      <th>JunePay</th>\n",
       "      <th>...</th>\n",
       "      <th>JuneBill</th>\n",
       "      <th>MayBill</th>\n",
       "      <th>AprilBill</th>\n",
       "      <th>SeptemberPayment</th>\n",
       "      <th>AugustPayment</th>\n",
       "      <th>JulyPayment</th>\n",
       "      <th>JunePayment</th>\n",
       "      <th>MayPayment</th>\n",
       "      <th>AprilPayment</th>\n",
       "      <th>default payment next month</th>\n",
       "    </tr>\n",
       "  </thead>\n",
       "  <tbody>\n",
       "    <tr>\n",
       "      <td>0</td>\n",
       "      <td>1</td>\n",
       "      <td>20000</td>\n",
       "      <td>2</td>\n",
       "      <td>2</td>\n",
       "      <td>1</td>\n",
       "      <td>24</td>\n",
       "      <td>2</td>\n",
       "      <td>2</td>\n",
       "      <td>-1</td>\n",
       "      <td>-1</td>\n",
       "      <td>...</td>\n",
       "      <td>0</td>\n",
       "      <td>0</td>\n",
       "      <td>0</td>\n",
       "      <td>0</td>\n",
       "      <td>689</td>\n",
       "      <td>0</td>\n",
       "      <td>0</td>\n",
       "      <td>0</td>\n",
       "      <td>0</td>\n",
       "      <td>1</td>\n",
       "    </tr>\n",
       "    <tr>\n",
       "      <td>1</td>\n",
       "      <td>2</td>\n",
       "      <td>120000</td>\n",
       "      <td>2</td>\n",
       "      <td>2</td>\n",
       "      <td>2</td>\n",
       "      <td>26</td>\n",
       "      <td>-1</td>\n",
       "      <td>2</td>\n",
       "      <td>0</td>\n",
       "      <td>0</td>\n",
       "      <td>...</td>\n",
       "      <td>3272</td>\n",
       "      <td>3455</td>\n",
       "      <td>3261</td>\n",
       "      <td>0</td>\n",
       "      <td>1000</td>\n",
       "      <td>1000</td>\n",
       "      <td>1000</td>\n",
       "      <td>0</td>\n",
       "      <td>2000</td>\n",
       "      <td>1</td>\n",
       "    </tr>\n",
       "    <tr>\n",
       "      <td>2</td>\n",
       "      <td>3</td>\n",
       "      <td>90000</td>\n",
       "      <td>2</td>\n",
       "      <td>2</td>\n",
       "      <td>2</td>\n",
       "      <td>34</td>\n",
       "      <td>0</td>\n",
       "      <td>0</td>\n",
       "      <td>0</td>\n",
       "      <td>0</td>\n",
       "      <td>...</td>\n",
       "      <td>14331</td>\n",
       "      <td>14948</td>\n",
       "      <td>15549</td>\n",
       "      <td>1518</td>\n",
       "      <td>1500</td>\n",
       "      <td>1000</td>\n",
       "      <td>1000</td>\n",
       "      <td>1000</td>\n",
       "      <td>5000</td>\n",
       "      <td>0</td>\n",
       "    </tr>\n",
       "    <tr>\n",
       "      <td>3</td>\n",
       "      <td>4</td>\n",
       "      <td>50000</td>\n",
       "      <td>2</td>\n",
       "      <td>2</td>\n",
       "      <td>1</td>\n",
       "      <td>37</td>\n",
       "      <td>0</td>\n",
       "      <td>0</td>\n",
       "      <td>0</td>\n",
       "      <td>0</td>\n",
       "      <td>...</td>\n",
       "      <td>28314</td>\n",
       "      <td>28959</td>\n",
       "      <td>29547</td>\n",
       "      <td>2000</td>\n",
       "      <td>2019</td>\n",
       "      <td>1200</td>\n",
       "      <td>1100</td>\n",
       "      <td>1069</td>\n",
       "      <td>1000</td>\n",
       "      <td>0</td>\n",
       "    </tr>\n",
       "    <tr>\n",
       "      <td>4</td>\n",
       "      <td>5</td>\n",
       "      <td>50000</td>\n",
       "      <td>1</td>\n",
       "      <td>2</td>\n",
       "      <td>1</td>\n",
       "      <td>57</td>\n",
       "      <td>-1</td>\n",
       "      <td>0</td>\n",
       "      <td>-1</td>\n",
       "      <td>0</td>\n",
       "      <td>...</td>\n",
       "      <td>20940</td>\n",
       "      <td>19146</td>\n",
       "      <td>19131</td>\n",
       "      <td>2000</td>\n",
       "      <td>36681</td>\n",
       "      <td>10000</td>\n",
       "      <td>9000</td>\n",
       "      <td>689</td>\n",
       "      <td>679</td>\n",
       "      <td>0</td>\n",
       "    </tr>\n",
       "  </tbody>\n",
       "</table>\n",
       "<p>5 rows × 25 columns</p>\n",
       "</div>"
      ],
      "text/plain": [
       "   ID  LIMIT_BAL  SEX  EDUCATION  MARRIAGE  AGE  SeptemberPay  AugustPay  \\\n",
       "0   1      20000    2          2         1   24             2          2   \n",
       "1   2     120000    2          2         2   26            -1          2   \n",
       "2   3      90000    2          2         2   34             0          0   \n",
       "3   4      50000    2          2         1   37             0          0   \n",
       "4   5      50000    1          2         1   57            -1          0   \n",
       "\n",
       "   JulyPay  JunePay  ...  JuneBill  MayBill  AprilBill  SeptemberPayment  \\\n",
       "0       -1       -1  ...         0        0          0                 0   \n",
       "1        0        0  ...      3272     3455       3261                 0   \n",
       "2        0        0  ...     14331    14948      15549              1518   \n",
       "3        0        0  ...     28314    28959      29547              2000   \n",
       "4       -1        0  ...     20940    19146      19131              2000   \n",
       "\n",
       "   AugustPayment  JulyPayment  JunePayment  MayPayment  AprilPayment  \\\n",
       "0            689            0            0           0             0   \n",
       "1           1000         1000         1000           0          2000   \n",
       "2           1500         1000         1000        1000          5000   \n",
       "3           2019         1200         1100        1069          1000   \n",
       "4          36681        10000         9000         689           679   \n",
       "\n",
       "   default payment next month  \n",
       "0                           1  \n",
       "1                           1  \n",
       "2                           0  \n",
       "3                           0  \n",
       "4                           0  \n",
       "\n",
       "[5 rows x 25 columns]"
      ]
     },
     "execution_count": 3,
     "metadata": {},
     "output_type": "execute_result"
    }
   ],
   "source": [
    "credit.head()\n",
    "\n"
   ]
  },
  {
   "cell_type": "code",
   "execution_count": 4,
   "metadata": {},
   "outputs": [
    {
     "data": {
      "text/html": [
       "<div>\n",
       "<style scoped>\n",
       "    .dataframe tbody tr th:only-of-type {\n",
       "        vertical-align: middle;\n",
       "    }\n",
       "\n",
       "    .dataframe tbody tr th {\n",
       "        vertical-align: top;\n",
       "    }\n",
       "\n",
       "    .dataframe thead th {\n",
       "        text-align: right;\n",
       "    }\n",
       "</style>\n",
       "<table border=\"1\" class=\"dataframe\">\n",
       "  <thead>\n",
       "    <tr style=\"text-align: right;\">\n",
       "      <th></th>\n",
       "      <th>ID</th>\n",
       "      <th>LIMIT_BAL</th>\n",
       "      <th>SEX</th>\n",
       "      <th>EDUCATION</th>\n",
       "      <th>MARRIAGE</th>\n",
       "      <th>AGE</th>\n",
       "      <th>SeptemberPay</th>\n",
       "      <th>AugustPay</th>\n",
       "      <th>JulyPay</th>\n",
       "      <th>JunePay</th>\n",
       "      <th>...</th>\n",
       "      <th>JuneBill</th>\n",
       "      <th>MayBill</th>\n",
       "      <th>AprilBill</th>\n",
       "      <th>SeptemberPayment</th>\n",
       "      <th>AugustPayment</th>\n",
       "      <th>JulyPayment</th>\n",
       "      <th>JunePayment</th>\n",
       "      <th>MayPayment</th>\n",
       "      <th>AprilPayment</th>\n",
       "      <th>default payment next month</th>\n",
       "    </tr>\n",
       "  </thead>\n",
       "  <tbody>\n",
       "    <tr>\n",
       "      <td>count</td>\n",
       "      <td>30000.000000</td>\n",
       "      <td>30000.000000</td>\n",
       "      <td>30000.000000</td>\n",
       "      <td>30000.000000</td>\n",
       "      <td>30000.000000</td>\n",
       "      <td>30000.000000</td>\n",
       "      <td>30000.000000</td>\n",
       "      <td>30000.000000</td>\n",
       "      <td>30000.000000</td>\n",
       "      <td>30000.000000</td>\n",
       "      <td>...</td>\n",
       "      <td>30000.000000</td>\n",
       "      <td>30000.000000</td>\n",
       "      <td>30000.000000</td>\n",
       "      <td>30000.000000</td>\n",
       "      <td>3.000000e+04</td>\n",
       "      <td>30000.00000</td>\n",
       "      <td>30000.000000</td>\n",
       "      <td>30000.000000</td>\n",
       "      <td>30000.000000</td>\n",
       "      <td>30000.000000</td>\n",
       "    </tr>\n",
       "    <tr>\n",
       "      <td>mean</td>\n",
       "      <td>15000.500000</td>\n",
       "      <td>167484.322667</td>\n",
       "      <td>1.603733</td>\n",
       "      <td>1.853133</td>\n",
       "      <td>1.551867</td>\n",
       "      <td>35.485500</td>\n",
       "      <td>-0.016700</td>\n",
       "      <td>-0.133767</td>\n",
       "      <td>-0.166200</td>\n",
       "      <td>-0.220667</td>\n",
       "      <td>...</td>\n",
       "      <td>43262.948967</td>\n",
       "      <td>40311.400967</td>\n",
       "      <td>38871.760400</td>\n",
       "      <td>5663.580500</td>\n",
       "      <td>5.921163e+03</td>\n",
       "      <td>5225.68150</td>\n",
       "      <td>4826.076867</td>\n",
       "      <td>4799.387633</td>\n",
       "      <td>5215.502567</td>\n",
       "      <td>0.221200</td>\n",
       "    </tr>\n",
       "    <tr>\n",
       "      <td>std</td>\n",
       "      <td>8660.398374</td>\n",
       "      <td>129747.661567</td>\n",
       "      <td>0.489129</td>\n",
       "      <td>0.790349</td>\n",
       "      <td>0.521970</td>\n",
       "      <td>9.217904</td>\n",
       "      <td>1.123802</td>\n",
       "      <td>1.197186</td>\n",
       "      <td>1.196868</td>\n",
       "      <td>1.169139</td>\n",
       "      <td>...</td>\n",
       "      <td>64332.856134</td>\n",
       "      <td>60797.155770</td>\n",
       "      <td>59554.107537</td>\n",
       "      <td>16563.280354</td>\n",
       "      <td>2.304087e+04</td>\n",
       "      <td>17606.96147</td>\n",
       "      <td>15666.159744</td>\n",
       "      <td>15278.305679</td>\n",
       "      <td>17777.465775</td>\n",
       "      <td>0.415062</td>\n",
       "    </tr>\n",
       "    <tr>\n",
       "      <td>min</td>\n",
       "      <td>1.000000</td>\n",
       "      <td>10000.000000</td>\n",
       "      <td>1.000000</td>\n",
       "      <td>0.000000</td>\n",
       "      <td>0.000000</td>\n",
       "      <td>21.000000</td>\n",
       "      <td>-2.000000</td>\n",
       "      <td>-2.000000</td>\n",
       "      <td>-2.000000</td>\n",
       "      <td>-2.000000</td>\n",
       "      <td>...</td>\n",
       "      <td>-170000.000000</td>\n",
       "      <td>-81334.000000</td>\n",
       "      <td>-339603.000000</td>\n",
       "      <td>0.000000</td>\n",
       "      <td>0.000000e+00</td>\n",
       "      <td>0.00000</td>\n",
       "      <td>0.000000</td>\n",
       "      <td>0.000000</td>\n",
       "      <td>0.000000</td>\n",
       "      <td>0.000000</td>\n",
       "    </tr>\n",
       "    <tr>\n",
       "      <td>25%</td>\n",
       "      <td>7500.750000</td>\n",
       "      <td>50000.000000</td>\n",
       "      <td>1.000000</td>\n",
       "      <td>1.000000</td>\n",
       "      <td>1.000000</td>\n",
       "      <td>28.000000</td>\n",
       "      <td>-1.000000</td>\n",
       "      <td>-1.000000</td>\n",
       "      <td>-1.000000</td>\n",
       "      <td>-1.000000</td>\n",
       "      <td>...</td>\n",
       "      <td>2326.750000</td>\n",
       "      <td>1763.000000</td>\n",
       "      <td>1256.000000</td>\n",
       "      <td>1000.000000</td>\n",
       "      <td>8.330000e+02</td>\n",
       "      <td>390.00000</td>\n",
       "      <td>296.000000</td>\n",
       "      <td>252.500000</td>\n",
       "      <td>117.750000</td>\n",
       "      <td>0.000000</td>\n",
       "    </tr>\n",
       "    <tr>\n",
       "      <td>50%</td>\n",
       "      <td>15000.500000</td>\n",
       "      <td>140000.000000</td>\n",
       "      <td>2.000000</td>\n",
       "      <td>2.000000</td>\n",
       "      <td>2.000000</td>\n",
       "      <td>34.000000</td>\n",
       "      <td>0.000000</td>\n",
       "      <td>0.000000</td>\n",
       "      <td>0.000000</td>\n",
       "      <td>0.000000</td>\n",
       "      <td>...</td>\n",
       "      <td>19052.000000</td>\n",
       "      <td>18104.500000</td>\n",
       "      <td>17071.000000</td>\n",
       "      <td>2100.000000</td>\n",
       "      <td>2.009000e+03</td>\n",
       "      <td>1800.00000</td>\n",
       "      <td>1500.000000</td>\n",
       "      <td>1500.000000</td>\n",
       "      <td>1500.000000</td>\n",
       "      <td>0.000000</td>\n",
       "    </tr>\n",
       "    <tr>\n",
       "      <td>75%</td>\n",
       "      <td>22500.250000</td>\n",
       "      <td>240000.000000</td>\n",
       "      <td>2.000000</td>\n",
       "      <td>2.000000</td>\n",
       "      <td>2.000000</td>\n",
       "      <td>41.000000</td>\n",
       "      <td>0.000000</td>\n",
       "      <td>0.000000</td>\n",
       "      <td>0.000000</td>\n",
       "      <td>0.000000</td>\n",
       "      <td>...</td>\n",
       "      <td>54506.000000</td>\n",
       "      <td>50190.500000</td>\n",
       "      <td>49198.250000</td>\n",
       "      <td>5006.000000</td>\n",
       "      <td>5.000000e+03</td>\n",
       "      <td>4505.00000</td>\n",
       "      <td>4013.250000</td>\n",
       "      <td>4031.500000</td>\n",
       "      <td>4000.000000</td>\n",
       "      <td>0.000000</td>\n",
       "    </tr>\n",
       "    <tr>\n",
       "      <td>max</td>\n",
       "      <td>30000.000000</td>\n",
       "      <td>1000000.000000</td>\n",
       "      <td>2.000000</td>\n",
       "      <td>6.000000</td>\n",
       "      <td>3.000000</td>\n",
       "      <td>79.000000</td>\n",
       "      <td>8.000000</td>\n",
       "      <td>8.000000</td>\n",
       "      <td>8.000000</td>\n",
       "      <td>8.000000</td>\n",
       "      <td>...</td>\n",
       "      <td>891586.000000</td>\n",
       "      <td>927171.000000</td>\n",
       "      <td>961664.000000</td>\n",
       "      <td>873552.000000</td>\n",
       "      <td>1.684259e+06</td>\n",
       "      <td>896040.00000</td>\n",
       "      <td>621000.000000</td>\n",
       "      <td>426529.000000</td>\n",
       "      <td>528666.000000</td>\n",
       "      <td>1.000000</td>\n",
       "    </tr>\n",
       "  </tbody>\n",
       "</table>\n",
       "<p>8 rows × 25 columns</p>\n",
       "</div>"
      ],
      "text/plain": [
       "                 ID       LIMIT_BAL           SEX     EDUCATION      MARRIAGE  \\\n",
       "count  30000.000000    30000.000000  30000.000000  30000.000000  30000.000000   \n",
       "mean   15000.500000   167484.322667      1.603733      1.853133      1.551867   \n",
       "std     8660.398374   129747.661567      0.489129      0.790349      0.521970   \n",
       "min        1.000000    10000.000000      1.000000      0.000000      0.000000   \n",
       "25%     7500.750000    50000.000000      1.000000      1.000000      1.000000   \n",
       "50%    15000.500000   140000.000000      2.000000      2.000000      2.000000   \n",
       "75%    22500.250000   240000.000000      2.000000      2.000000      2.000000   \n",
       "max    30000.000000  1000000.000000      2.000000      6.000000      3.000000   \n",
       "\n",
       "                AGE  SeptemberPay     AugustPay       JulyPay       JunePay  \\\n",
       "count  30000.000000  30000.000000  30000.000000  30000.000000  30000.000000   \n",
       "mean      35.485500     -0.016700     -0.133767     -0.166200     -0.220667   \n",
       "std        9.217904      1.123802      1.197186      1.196868      1.169139   \n",
       "min       21.000000     -2.000000     -2.000000     -2.000000     -2.000000   \n",
       "25%       28.000000     -1.000000     -1.000000     -1.000000     -1.000000   \n",
       "50%       34.000000      0.000000      0.000000      0.000000      0.000000   \n",
       "75%       41.000000      0.000000      0.000000      0.000000      0.000000   \n",
       "max       79.000000      8.000000      8.000000      8.000000      8.000000   \n",
       "\n",
       "       ...       JuneBill        MayBill      AprilBill  SeptemberPayment  \\\n",
       "count  ...   30000.000000   30000.000000   30000.000000      30000.000000   \n",
       "mean   ...   43262.948967   40311.400967   38871.760400       5663.580500   \n",
       "std    ...   64332.856134   60797.155770   59554.107537      16563.280354   \n",
       "min    ... -170000.000000  -81334.000000 -339603.000000          0.000000   \n",
       "25%    ...    2326.750000    1763.000000    1256.000000       1000.000000   \n",
       "50%    ...   19052.000000   18104.500000   17071.000000       2100.000000   \n",
       "75%    ...   54506.000000   50190.500000   49198.250000       5006.000000   \n",
       "max    ...  891586.000000  927171.000000  961664.000000     873552.000000   \n",
       "\n",
       "       AugustPayment   JulyPayment    JunePayment     MayPayment  \\\n",
       "count   3.000000e+04   30000.00000   30000.000000   30000.000000   \n",
       "mean    5.921163e+03    5225.68150    4826.076867    4799.387633   \n",
       "std     2.304087e+04   17606.96147   15666.159744   15278.305679   \n",
       "min     0.000000e+00       0.00000       0.000000       0.000000   \n",
       "25%     8.330000e+02     390.00000     296.000000     252.500000   \n",
       "50%     2.009000e+03    1800.00000    1500.000000    1500.000000   \n",
       "75%     5.000000e+03    4505.00000    4013.250000    4031.500000   \n",
       "max     1.684259e+06  896040.00000  621000.000000  426529.000000   \n",
       "\n",
       "        AprilPayment  default payment next month  \n",
       "count   30000.000000                30000.000000  \n",
       "mean     5215.502567                    0.221200  \n",
       "std     17777.465775                    0.415062  \n",
       "min         0.000000                    0.000000  \n",
       "25%       117.750000                    0.000000  \n",
       "50%      1500.000000                    0.000000  \n",
       "75%      4000.000000                    0.000000  \n",
       "max    528666.000000                    1.000000  \n",
       "\n",
       "[8 rows x 25 columns]"
      ]
     },
     "execution_count": 4,
     "metadata": {},
     "output_type": "execute_result"
    }
   ],
   "source": [
    "credit.describe()\n",
    "\n"
   ]
  },
  {
   "cell_type": "code",
   "execution_count": 5,
   "metadata": {},
   "outputs": [
    {
     "name": "stdout",
     "output_type": "stream",
     "text": [
      "<class 'pandas.core.frame.DataFrame'>\n",
      "RangeIndex: 30000 entries, 0 to 29999\n",
      "Data columns (total 25 columns):\n",
      "ID                            30000 non-null int64\n",
      "LIMIT_BAL                     30000 non-null int64\n",
      "SEX                           30000 non-null int64\n",
      "EDUCATION                     30000 non-null int64\n",
      "MARRIAGE                      30000 non-null int64\n",
      "AGE                           30000 non-null int64\n",
      "SeptemberPay                  30000 non-null int64\n",
      "AugustPay                     30000 non-null int64\n",
      "JulyPay                       30000 non-null int64\n",
      "JunePay                       30000 non-null int64\n",
      "MayPay                        30000 non-null int64\n",
      "AprilPay                      30000 non-null int64\n",
      "SeptemberBill                 30000 non-null int64\n",
      "AugustBill                    30000 non-null int64\n",
      "JulyBill                      30000 non-null int64\n",
      "JuneBill                      30000 non-null int64\n",
      "MayBill                       30000 non-null int64\n",
      "AprilBill                     30000 non-null int64\n",
      "SeptemberPayment              30000 non-null int64\n",
      "AugustPayment                 30000 non-null int64\n",
      "JulyPayment                   30000 non-null int64\n",
      "JunePayment                   30000 non-null int64\n",
      "MayPayment                    30000 non-null int64\n",
      "AprilPayment                  30000 non-null int64\n",
      "default payment next month    30000 non-null int64\n",
      "dtypes: int64(25)\n",
      "memory usage: 5.7 MB\n"
     ]
    }
   ],
   "source": [
    "credit.info()\n",
    "\n"
   ]
  },
  {
   "cell_type": "code",
   "execution_count": 6,
   "metadata": {},
   "outputs": [],
   "source": [
    "credit = credit.astype({\"SEX\":'category', \"EDUCATION\":'category', \"MARRIAGE\":'category',\"SeptemberPay\":'category',\"AugustPay\":'category',\"JulyPay\":'category',\"JunePay\":'category',\"MayPay\":'category',\"AprilPay\":'category',\"MARRIAGE\":'category',\"default payment next month\":'category',}) \n"
   ]
  },
  {
   "cell_type": "code",
   "execution_count": 7,
   "metadata": {},
   "outputs": [
    {
     "name": "stdout",
     "output_type": "stream",
     "text": [
      "<class 'pandas.core.frame.DataFrame'>\n",
      "RangeIndex: 30000 entries, 0 to 29999\n",
      "Data columns (total 25 columns):\n",
      "ID                            30000 non-null int64\n",
      "LIMIT_BAL                     30000 non-null int64\n",
      "SEX                           30000 non-null category\n",
      "EDUCATION                     30000 non-null category\n",
      "MARRIAGE                      30000 non-null category\n",
      "AGE                           30000 non-null int64\n",
      "SeptemberPay                  30000 non-null category\n",
      "AugustPay                     30000 non-null category\n",
      "JulyPay                       30000 non-null category\n",
      "JunePay                       30000 non-null category\n",
      "MayPay                        30000 non-null category\n",
      "AprilPay                      30000 non-null category\n",
      "SeptemberBill                 30000 non-null int64\n",
      "AugustBill                    30000 non-null int64\n",
      "JulyBill                      30000 non-null int64\n",
      "JuneBill                      30000 non-null int64\n",
      "MayBill                       30000 non-null int64\n",
      "AprilBill                     30000 non-null int64\n",
      "SeptemberPayment              30000 non-null int64\n",
      "AugustPayment                 30000 non-null int64\n",
      "JulyPayment                   30000 non-null int64\n",
      "JunePayment                   30000 non-null int64\n",
      "MayPayment                    30000 non-null int64\n",
      "AprilPayment                  30000 non-null int64\n",
      "default payment next month    30000 non-null category\n",
      "dtypes: category(10), int64(15)\n",
      "memory usage: 3.7 MB\n"
     ]
    }
   ],
   "source": [
    "credit.info()\n"
   ]
  },
  {
   "cell_type": "code",
   "execution_count": 8,
   "metadata": {},
   "outputs": [
    {
     "data": {
      "text/plain": [
       "False"
      ]
     },
     "execution_count": 8,
     "metadata": {},
     "output_type": "execute_result"
    }
   ],
   "source": [
    "#check if there are any null values\n",
    "credit.isnull().values.any()\n"
   ]
  },
  {
   "cell_type": "code",
   "execution_count": 9,
   "metadata": {},
   "outputs": [],
   "source": [
    "credit['AGE'] = pd.qcut(credit['AGE'], q=4)\n"
   ]
  },
  {
   "cell_type": "code",
   "execution_count": 10,
   "metadata": {},
   "outputs": [
    {
     "name": "stdout",
     "output_type": "stream",
     "text": [
      "<class 'pandas.core.frame.DataFrame'>\n",
      "RangeIndex: 30000 entries, 0 to 29999\n",
      "Data columns (total 25 columns):\n",
      "ID                            30000 non-null int64\n",
      "LIMIT_BAL                     30000 non-null int64\n",
      "SEX                           30000 non-null category\n",
      "EDUCATION                     30000 non-null category\n",
      "MARRIAGE                      30000 non-null category\n",
      "AGE                           30000 non-null category\n",
      "SeptemberPay                  30000 non-null category\n",
      "AugustPay                     30000 non-null category\n",
      "JulyPay                       30000 non-null category\n",
      "JunePay                       30000 non-null category\n",
      "MayPay                        30000 non-null category\n",
      "AprilPay                      30000 non-null category\n",
      "SeptemberBill                 30000 non-null int64\n",
      "AugustBill                    30000 non-null int64\n",
      "JulyBill                      30000 non-null int64\n",
      "JuneBill                      30000 non-null int64\n",
      "MayBill                       30000 non-null int64\n",
      "AprilBill                     30000 non-null int64\n",
      "SeptemberPayment              30000 non-null int64\n",
      "AugustPayment                 30000 non-null int64\n",
      "JulyPayment                   30000 non-null int64\n",
      "JunePayment                   30000 non-null int64\n",
      "MayPayment                    30000 non-null int64\n",
      "AprilPayment                  30000 non-null int64\n",
      "default payment next month    30000 non-null category\n",
      "dtypes: category(11), int64(14)\n",
      "memory usage: 3.5 MB\n"
     ]
    }
   ],
   "source": [
    "credit.info()"
   ]
  },
  {
   "cell_type": "code",
   "execution_count": 11,
   "metadata": {},
   "outputs": [
    {
     "data": {
      "text/html": [
       "<div>\n",
       "<style scoped>\n",
       "    .dataframe tbody tr th:only-of-type {\n",
       "        vertical-align: middle;\n",
       "    }\n",
       "\n",
       "    .dataframe tbody tr th {\n",
       "        vertical-align: top;\n",
       "    }\n",
       "\n",
       "    .dataframe thead th {\n",
       "        text-align: right;\n",
       "    }\n",
       "</style>\n",
       "<table border=\"1\" class=\"dataframe\">\n",
       "  <thead>\n",
       "    <tr style=\"text-align: right;\">\n",
       "      <th></th>\n",
       "      <th>ID</th>\n",
       "      <th>LIMIT_BAL</th>\n",
       "      <th>SEX</th>\n",
       "      <th>EDUCATION</th>\n",
       "      <th>MARRIAGE</th>\n",
       "      <th>AGE</th>\n",
       "      <th>SeptemberPay</th>\n",
       "      <th>AugustPay</th>\n",
       "      <th>JulyPay</th>\n",
       "      <th>JunePay</th>\n",
       "      <th>...</th>\n",
       "      <th>JuneBill</th>\n",
       "      <th>MayBill</th>\n",
       "      <th>AprilBill</th>\n",
       "      <th>SeptemberPayment</th>\n",
       "      <th>AugustPayment</th>\n",
       "      <th>JulyPayment</th>\n",
       "      <th>JunePayment</th>\n",
       "      <th>MayPayment</th>\n",
       "      <th>AprilPayment</th>\n",
       "      <th>default payment next month</th>\n",
       "    </tr>\n",
       "  </thead>\n",
       "  <tbody>\n",
       "    <tr>\n",
       "      <td>0</td>\n",
       "      <td>1</td>\n",
       "      <td>20000</td>\n",
       "      <td>2</td>\n",
       "      <td>2</td>\n",
       "      <td>1</td>\n",
       "      <td>(20.999, 28.0]</td>\n",
       "      <td>2</td>\n",
       "      <td>2</td>\n",
       "      <td>-1</td>\n",
       "      <td>-1</td>\n",
       "      <td>...</td>\n",
       "      <td>0</td>\n",
       "      <td>0</td>\n",
       "      <td>0</td>\n",
       "      <td>0</td>\n",
       "      <td>689</td>\n",
       "      <td>0</td>\n",
       "      <td>0</td>\n",
       "      <td>0</td>\n",
       "      <td>0</td>\n",
       "      <td>1</td>\n",
       "    </tr>\n",
       "    <tr>\n",
       "      <td>1</td>\n",
       "      <td>2</td>\n",
       "      <td>120000</td>\n",
       "      <td>2</td>\n",
       "      <td>2</td>\n",
       "      <td>2</td>\n",
       "      <td>(20.999, 28.0]</td>\n",
       "      <td>-1</td>\n",
       "      <td>2</td>\n",
       "      <td>0</td>\n",
       "      <td>0</td>\n",
       "      <td>...</td>\n",
       "      <td>3272</td>\n",
       "      <td>3455</td>\n",
       "      <td>3261</td>\n",
       "      <td>0</td>\n",
       "      <td>1000</td>\n",
       "      <td>1000</td>\n",
       "      <td>1000</td>\n",
       "      <td>0</td>\n",
       "      <td>2000</td>\n",
       "      <td>1</td>\n",
       "    </tr>\n",
       "    <tr>\n",
       "      <td>2</td>\n",
       "      <td>3</td>\n",
       "      <td>90000</td>\n",
       "      <td>2</td>\n",
       "      <td>2</td>\n",
       "      <td>2</td>\n",
       "      <td>(28.0, 34.0]</td>\n",
       "      <td>0</td>\n",
       "      <td>0</td>\n",
       "      <td>0</td>\n",
       "      <td>0</td>\n",
       "      <td>...</td>\n",
       "      <td>14331</td>\n",
       "      <td>14948</td>\n",
       "      <td>15549</td>\n",
       "      <td>1518</td>\n",
       "      <td>1500</td>\n",
       "      <td>1000</td>\n",
       "      <td>1000</td>\n",
       "      <td>1000</td>\n",
       "      <td>5000</td>\n",
       "      <td>0</td>\n",
       "    </tr>\n",
       "    <tr>\n",
       "      <td>3</td>\n",
       "      <td>4</td>\n",
       "      <td>50000</td>\n",
       "      <td>2</td>\n",
       "      <td>2</td>\n",
       "      <td>1</td>\n",
       "      <td>(34.0, 41.0]</td>\n",
       "      <td>0</td>\n",
       "      <td>0</td>\n",
       "      <td>0</td>\n",
       "      <td>0</td>\n",
       "      <td>...</td>\n",
       "      <td>28314</td>\n",
       "      <td>28959</td>\n",
       "      <td>29547</td>\n",
       "      <td>2000</td>\n",
       "      <td>2019</td>\n",
       "      <td>1200</td>\n",
       "      <td>1100</td>\n",
       "      <td>1069</td>\n",
       "      <td>1000</td>\n",
       "      <td>0</td>\n",
       "    </tr>\n",
       "    <tr>\n",
       "      <td>4</td>\n",
       "      <td>5</td>\n",
       "      <td>50000</td>\n",
       "      <td>1</td>\n",
       "      <td>2</td>\n",
       "      <td>1</td>\n",
       "      <td>(41.0, 79.0]</td>\n",
       "      <td>-1</td>\n",
       "      <td>0</td>\n",
       "      <td>-1</td>\n",
       "      <td>0</td>\n",
       "      <td>...</td>\n",
       "      <td>20940</td>\n",
       "      <td>19146</td>\n",
       "      <td>19131</td>\n",
       "      <td>2000</td>\n",
       "      <td>36681</td>\n",
       "      <td>10000</td>\n",
       "      <td>9000</td>\n",
       "      <td>689</td>\n",
       "      <td>679</td>\n",
       "      <td>0</td>\n",
       "    </tr>\n",
       "  </tbody>\n",
       "</table>\n",
       "<p>5 rows × 25 columns</p>\n",
       "</div>"
      ],
      "text/plain": [
       "   ID  LIMIT_BAL SEX EDUCATION MARRIAGE             AGE SeptemberPay  \\\n",
       "0   1      20000   2         2        1  (20.999, 28.0]            2   \n",
       "1   2     120000   2         2        2  (20.999, 28.0]           -1   \n",
       "2   3      90000   2         2        2    (28.0, 34.0]            0   \n",
       "3   4      50000   2         2        1    (34.0, 41.0]            0   \n",
       "4   5      50000   1         2        1    (41.0, 79.0]           -1   \n",
       "\n",
       "  AugustPay JulyPay JunePay  ... JuneBill MayBill  AprilBill  \\\n",
       "0         2      -1      -1  ...        0       0          0   \n",
       "1         2       0       0  ...     3272    3455       3261   \n",
       "2         0       0       0  ...    14331   14948      15549   \n",
       "3         0       0       0  ...    28314   28959      29547   \n",
       "4         0      -1       0  ...    20940   19146      19131   \n",
       "\n",
       "   SeptemberPayment  AugustPayment  JulyPayment  JunePayment  MayPayment  \\\n",
       "0                 0            689            0            0           0   \n",
       "1                 0           1000         1000         1000           0   \n",
       "2              1518           1500         1000         1000        1000   \n",
       "3              2000           2019         1200         1100        1069   \n",
       "4              2000          36681        10000         9000         689   \n",
       "\n",
       "   AprilPayment  default payment next month  \n",
       "0             0                           1  \n",
       "1          2000                           1  \n",
       "2          5000                           0  \n",
       "3          1000                           0  \n",
       "4           679                           0  \n",
       "\n",
       "[5 rows x 25 columns]"
      ]
     },
     "execution_count": 11,
     "metadata": {},
     "output_type": "execute_result"
    }
   ],
   "source": [
    "credit.head()\n"
   ]
  },
  {
   "cell_type": "code",
   "execution_count": 12,
   "metadata": {},
   "outputs": [],
   "source": [
    "credit.to_csv('/Users/moramoga/Documents/Big Data/Course 5 /Task#1/default of credit card clients 2.csv')\n"
   ]
  },
  {
   "cell_type": "code",
   "execution_count": 13,
   "metadata": {},
   "outputs": [],
   "source": [
    "import pandas as pd\n",
    "import matplotlib.pyplot as plt"
   ]
  },
  {
   "cell_type": "code",
   "execution_count": 14,
   "metadata": {},
   "outputs": [
    {
     "name": "stdout",
     "output_type": "stream",
     "text": [
      "Index(['ID', 'LIMIT_BAL', 'SEX', 'EDUCATION', 'MARRIAGE', 'AGE',\n",
      "       'SeptemberPay', 'AugustPay', 'JulyPay', 'JunePay', 'MayPay', 'AprilPay',\n",
      "       'SeptemberBill', 'AugustBill', 'JulyBill', 'JuneBill', 'MayBill',\n",
      "       'AprilBill', 'SeptemberPayment', 'AugustPayment', 'JulyPayment',\n",
      "       'JunePayment', 'MayPayment', 'AprilPayment',\n",
      "       'default payment next month'],\n",
      "      dtype='object')\n"
     ]
    }
   ],
   "source": [
    "header = credit.dtypes.index\n",
    "print(header)"
   ]
  },
  {
   "cell_type": "code",
   "execution_count": 15,
   "metadata": {},
   "outputs": [
    {
     "data": {
      "image/png": "[encoded data removed]",
      "text/plain": [
       "<Figure size 432x288 with 1 Axes>"
      ]
     },
     "metadata": {
      "needs_background": "light"
     },
     "output_type": "display_data"
    }
   ],
   "source": [
    "#lets build our first histogram using the .hist method of matplotlib as follows; \n",
    "#this example plots the 'LIMIT_BAL' variable:\n",
    "plt.hist(credit['LIMIT_BAL'])\n",
    "plt.show()"
   ]
  },
  {
   "cell_type": "code",
   "execution_count": 16,
   "metadata": {},
   "outputs": [
    {
     "data": {
      "text/plain": [
       "(array([2.3283e+04, 6.5110e+03, 2.0000e+02, 6.0000e+00]),\n",
       " array([  10000.,  257500.,  505000.,  752500., 1000000.]),\n",
       " <a list of 4 Patch objects>)"
      ]
     },
     "execution_count": 16,
     "metadata": {},
     "output_type": "execute_result"
    },
    {
     "data": {
      "image/png": "[encoded data removed]",
      "text/plain": [
       "<Figure size 432x288 with 1 Axes>"
      ]
     },
     "metadata": {
      "needs_background": "light"
     },
     "output_type": "display_data"
    }
   ],
   "source": [
    "#You can specify the number of bins in your histograms by adding bins='X' as follows:\n",
    "plt.hist(credit['LIMIT_BAL'], bins=4)\n",
    "\n"
   ]
  },
  {
   "cell_type": "code",
   "execution_count": 17,
   "metadata": {},
   "outputs": [
    {
     "data": {
      "image/png": "[encoded data removed]",
      "text/plain": [
       "<Figure size 432x288 with 1 Axes>"
      ]
     },
     "metadata": {
      "needs_background": "light"
     },
     "output_type": "display_data"
    }
   ],
   "source": [
    "#Line plots are often used in EDA to illustrate the range and mode of any given numerical variable. \n",
    "#This can be very important for things like preventing bias and model overfit and even identifying collinearity.\n",
    "\n",
    "#Creating line plots is very easy in matplotlib and can be done for a single variable or for multiple variables at \n",
    "#once (multivariate). Lets start by creating a line plot for the same variable we studied previously.\n",
    "\n",
    "plt.plot(credit['LIMIT_BAL'])\n",
    "plt.show()"
   ]
  },
  {
   "cell_type": "code",
   "execution_count": 18,
   "metadata": {},
   "outputs": [],
   "source": [
    "#In order to create a comparison of any two features we must first set the two features equal to variables as follows; \n",
    "#this is an example using 'PAY_0' to 'PAY_2'\n",
    "x = credit['SeptemberPay']\n",
    "y = credit['AugustPay']"
   ]
  },
  {
   "cell_type": "code",
   "execution_count": 19,
   "metadata": {},
   "outputs": [
    {
     "data": {
      "image/png": "[encoded data removed]",
      "text/plain": [
       "<Figure size 432x288 with 1 Axes>"
      ]
     },
     "metadata": {
      "needs_background": "light"
     },
     "output_type": "display_data"
    }
   ],
   "source": [
    "plt.scatter(x,y)\n",
    "plt.show()"
   ]
  },
  {
   "cell_type": "code",
   "execution_count": 20,
   "metadata": {},
   "outputs": [
    {
     "name": "stdout",
     "output_type": "stream",
     "text": [
      "Index(['ID', 'LIMIT_BAL', 'SEX', 'EDUCATION', 'MARRIAGE', 'AGE',\n",
      "       'SeptemberPay', 'AugustPay', 'JulyPay', 'JunePay', 'MayPay', 'AprilPay',\n",
      "       'SeptemberBill', 'AugustBill', 'JulyBill', 'JuneBill', 'MayBill',\n",
      "       'AprilBill', 'SeptemberPayment', 'AugustPayment', 'JulyPayment',\n",
      "       'JunePayment', 'MayPayment', 'AprilPayment',\n",
      "       'default payment next month'],\n",
      "      dtype='object')\n"
     ]
    }
   ],
   "source": [
    "#We'll start again a having a look at our column names:\n",
    "header = credit.dtypes.index\n",
    "print(header)"
   ]
  },
  {
   "cell_type": "code",
   "execution_count": 21,
   "metadata": {},
   "outputs": [
    {
     "data": {
      "image/png": "[encoded data removed]",
      "text/plain": [
       "<Figure size 432x288 with 1 Axes>"
      ]
     },
     "metadata": {
      "needs_background": "light"
     },
     "output_type": "display_data"
    }
   ],
   "source": [
    "#Next we'll  build a plot plot with one of the features in our data:\n",
    "A = credit['AugustBill']\n",
    "plt.boxplot(A,0,'gD')\n",
    "plt.show()"
   ]
  },
  {
   "cell_type": "code",
   "execution_count": 22,
   "metadata": {},
   "outputs": [
    {
     "name": "stdout",
     "output_type": "stream",
     "text": [
      "                        ID  LIMIT_BAL  SeptemberBill  AugustBill  JulyBill  \\\n",
      "ID                1.000000   0.026179       0.019389    0.017982  0.024354   \n",
      "LIMIT_BAL         0.026179   1.000000       0.285430    0.278314  0.283236   \n",
      "SeptemberBill     0.019389   0.285430       1.000000    0.951484  0.892279   \n",
      "AugustBill        0.017982   0.278314       0.951484    1.000000  0.928326   \n",
      "JulyBill          0.024354   0.283236       0.892279    0.928326  1.000000   \n",
      "JuneBill          0.040351   0.293988       0.860272    0.892482  0.923969   \n",
      "MayBill           0.016705   0.295562       0.829779    0.859778  0.883910   \n",
      "AprilBill         0.016730   0.290389       0.802650    0.831594  0.853320   \n",
      "SeptemberPayment  0.009742   0.195236       0.140277    0.280365  0.244335   \n",
      "AugustPayment     0.008406   0.178408       0.099355    0.100851  0.316936   \n",
      "JulyPayment       0.039151   0.210167       0.156887    0.150718  0.130011   \n",
      "JunePayment       0.007793   0.203242       0.158303    0.147398  0.143405   \n",
      "MayPayment        0.000652   0.217202       0.167026    0.157957  0.179712   \n",
      "AprilPayment      0.003000   0.219595       0.179341    0.174256  0.182326   \n",
      "\n",
      "                  JuneBill   MayBill  AprilBill  SeptemberPayment  \\\n",
      "ID                0.040351  0.016705   0.016730          0.009742   \n",
      "LIMIT_BAL         0.293988  0.295562   0.290389          0.195236   \n",
      "SeptemberBill     0.860272  0.829779   0.802650          0.140277   \n",
      "AugustBill        0.892482  0.859778   0.831594          0.280365   \n",
      "JulyBill          0.923969  0.883910   0.853320          0.244335   \n",
      "JuneBill          1.000000  0.940134   0.900941          0.233012   \n",
      "MayBill           0.940134  1.000000   0.946197          0.217031   \n",
      "AprilBill         0.900941  0.946197   1.000000          0.199965   \n",
      "SeptemberPayment  0.233012  0.217031   0.199965          1.000000   \n",
      "AugustPayment     0.207564  0.181246   0.172663          0.285576   \n",
      "JulyPayment       0.300023  0.252305   0.233770          0.252191   \n",
      "JunePayment       0.130191  0.293118   0.250237          0.199558   \n",
      "MayPayment        0.160433  0.141574   0.307729          0.148459   \n",
      "AprilPayment      0.177637  0.164184   0.115494          0.185735   \n",
      "\n",
      "                  AugustPayment  JulyPayment  JunePayment  MayPayment  \\\n",
      "ID                     0.008406     0.039151     0.007793    0.000652   \n",
      "LIMIT_BAL              0.178408     0.210167     0.203242    0.217202   \n",
      "SeptemberBill          0.099355     0.156887     0.158303    0.167026   \n",
      "AugustBill             0.100851     0.150718     0.147398    0.157957   \n",
      "JulyBill               0.316936     0.130011     0.143405    0.179712   \n",
      "JuneBill               0.207564     0.300023     0.130191    0.160433   \n",
      "MayBill                0.181246     0.252305     0.293118    0.141574   \n",
      "AprilBill              0.172663     0.233770     0.250237    0.307729   \n",
      "SeptemberPayment       0.285576     0.252191     0.199558    0.148459   \n",
      "AugustPayment          1.000000     0.244770     0.180107    0.180908   \n",
      "JulyPayment            0.244770     1.000000     0.216325    0.159214   \n",
      "JunePayment            0.180107     0.216325     1.000000    0.151830   \n",
      "MayPayment             0.180908     0.159214     0.151830    1.000000   \n",
      "AprilPayment           0.157634     0.162740     0.157834    0.154896   \n",
      "\n",
      "                  AprilPayment  \n",
      "ID                    0.003000  \n",
      "LIMIT_BAL             0.219595  \n",
      "SeptemberBill         0.179341  \n",
      "AugustBill            0.174256  \n",
      "JulyBill              0.182326  \n",
      "JuneBill              0.177637  \n",
      "MayBill               0.164184  \n",
      "AprilBill             0.115494  \n",
      "SeptemberPayment      0.185735  \n",
      "AugustPayment         0.157634  \n",
      "JulyPayment           0.162740  \n",
      "JunePayment           0.157834  \n",
      "MayPayment            0.154896  \n",
      "AprilPayment          1.000000  \n"
     ]
    }
   ],
   "source": [
    "#Here is a quick example of building a basic correlation coefficient matrix using pandas:\n",
    "corrMat = credit.corr()\n",
    "print(corrMat)"
   ]
  },
  {
   "cell_type": "code",
   "execution_count": 23,
   "metadata": {},
   "outputs": [
    {
     "name": "stdout",
     "output_type": "stream",
     "text": [
      "                            ID     LIMIT_BAL  SeptemberBill    AugustBill  \\\n",
      "ID                7.500250e+07  2.941664e+07   1.236447e+07  1.108392e+07   \n",
      "LIMIT_BAL         2.941664e+07  1.683446e+10   2.727020e+09  2.570130e+09   \n",
      "SeptemberBill     1.236447e+07  2.727020e+09   5.422240e+09  4.986670e+09   \n",
      "AugustBill        1.108392e+07  2.570130e+09   4.986670e+09  5.065705e+09   \n",
      "JulyBill          1.462688e+07  2.548533e+09   4.556511e+09  4.582086e+09   \n",
      "JuneBill          2.248126e+07  2.453926e+09   4.075286e+09  4.086508e+09   \n",
      "MayBill           8.795803e+06  2.331481e+09   3.714795e+09  3.720401e+09   \n",
      "AprilBill         8.628506e+06  2.243837e+09   3.519876e+09  3.524868e+09   \n",
      "SeptemberPayment  1.397501e+06  4.195711e+08   1.710894e+08  3.305146e+08   \n",
      "AugustPayment     1.677383e+06  5.333504e+08   1.685692e+08  1.653859e+08   \n",
      "JulyPayment       5.969803e+06  4.801180e+08   2.034048e+08  1.888731e+08   \n",
      "JunePayment       1.057334e+06  4.131202e+08   1.826164e+08  1.643518e+08   \n",
      "MayPayment        8.629502e+04  4.305657e+08   1.879091e+08  1.717652e+08   \n",
      "AprilPayment      4.618460e+05  5.065153e+08   2.347681e+08  2.204845e+08   \n",
      "\n",
      "                      JulyBill      JuneBill       MayBill     AprilBill  \\\n",
      "ID                1.462688e+07  2.248126e+07  8.795803e+06  8.628506e+06   \n",
      "LIMIT_BAL         2.548533e+09  2.453926e+09  2.331481e+09  2.243837e+09   \n",
      "SeptemberBill     4.556511e+09  4.075286e+09  3.714795e+09  3.519876e+09   \n",
      "AugustBill        4.582086e+09  4.086508e+09  3.720401e+09  3.524868e+09   \n",
      "JulyBill          4.809338e+09  4.122238e+09  3.726780e+09  3.524247e+09   \n",
      "JuneBill          4.122238e+09  4.138716e+09  3.677105e+09  3.451762e+09   \n",
      "MayBill           3.726780e+09  3.677105e+09  3.696294e+09  3.425914e+09   \n",
      "AprilBill         3.524247e+09  3.451762e+09  3.425914e+09  3.546692e+09   \n",
      "SeptemberPayment  2.806565e+08  2.482888e+08  2.185501e+08  1.972478e+08   \n",
      "AugustPayment     5.064226e+08  3.076686e+08  2.538936e+08  2.369244e+08   \n",
      "JulyPayment       1.587478e+08  3.398374e+08  2.700805e+08  2.451233e+08   \n",
      "JunePayment       1.558003e+08  1.312133e+08  2.791830e+08  2.334670e+08   \n",
      "MayPayment        1.904126e+08  1.576892e+08  1.315051e+08  2.799982e+08   \n",
      "AprilPayment      2.247817e+08  2.031590e+08  1.774537e+08  1.222761e+08   \n",
      "\n",
      "                  SeptemberPayment  AugustPayment   JulyPayment   JunePayment  \\\n",
      "ID                    1.397501e+06   1.677383e+06  5.969803e+06  1.057334e+06   \n",
      "LIMIT_BAL             4.195711e+08   5.333504e+08  4.801180e+08  4.131202e+08   \n",
      "SeptemberBill         1.710894e+08   1.685692e+08  2.034048e+08  1.826164e+08   \n",
      "AugustBill            3.305146e+08   1.653859e+08  1.888731e+08  1.643518e+08   \n",
      "JulyBill              2.806565e+08   5.064226e+08  1.587478e+08  1.558003e+08   \n",
      "JuneBill              2.482888e+08   3.076686e+08  3.398374e+08  1.312133e+08   \n",
      "MayBill               2.185501e+08   2.538936e+08  2.700805e+08  2.791830e+08   \n",
      "AprilBill             1.972478e+08   2.369244e+08  2.451233e+08  2.334670e+08   \n",
      "SeptemberPayment      2.743423e+08   1.089849e+08  7.354626e+07  5.178189e+07   \n",
      "AugustPayment         1.089849e+08   5.308817e+08  9.929841e+07  6.501168e+07   \n",
      "JulyPayment           7.354626e+07   9.929841e+07  3.100051e+08  5.966970e+07   \n",
      "JunePayment           5.178189e+07   6.501168e+07  5.966970e+07  2.454286e+08   \n",
      "MayPayment            3.756893e+07   6.368414e+07  4.282921e+07  3.634098e+07   \n",
      "AprilPayment          5.469033e+07   6.456816e+07  5.093879e+07  4.395747e+07   \n",
      "\n",
      "                    MayPayment  AprilPayment  \n",
      "ID                8.629502e+04  4.618460e+05  \n",
      "LIMIT_BAL         4.305657e+08  5.065153e+08  \n",
      "SeptemberBill     1.879091e+08  2.347681e+08  \n",
      "AugustBill        1.717652e+08  2.204845e+08  \n",
      "JulyBill          1.904126e+08  2.247817e+08  \n",
      "JuneBill          1.576892e+08  2.031590e+08  \n",
      "MayBill           1.315051e+08  1.774537e+08  \n",
      "AprilBill         2.799982e+08  1.222761e+08  \n",
      "SeptemberPayment  3.756893e+07  5.469033e+07  \n",
      "AugustPayment     6.368414e+07  6.456816e+07  \n",
      "JulyPayment       4.282921e+07  5.093879e+07  \n",
      "JunePayment       3.634098e+07  4.395747e+07  \n",
      "MayPayment        2.334266e+08  4.207110e+07  \n",
      "AprilPayment      4.207110e+07  3.160383e+08  \n"
     ]
    }
   ],
   "source": [
    "#Covariance is often used to gauge the linear degree of change between two variables. \n",
    "covMat = credit.cov()\n",
    "print(covMat)"
   ]
  },
  {
   "cell_type": "code",
   "execution_count": 24,
   "metadata": {},
   "outputs": [],
   "source": [
    "import seaborn as sns # used for plot interactive graph. \n"
   ]
  },
  {
   "cell_type": "code",
   "execution_count": 25,
   "metadata": {},
   "outputs": [],
   "source": [
    "import matplotlib.pyplot as plt # this is used for the plot the graph \n",
    "plt.style.use('ggplot') # nice plots\n"
   ]
  },
  {
   "cell_type": "code",
   "execution_count": 26,
   "metadata": {},
   "outputs": [
    {
     "data": {
      "text/plain": [
       "[2, 1, 3, 5, 4, 6, 0]\n",
       "Categories (7, int64): [2, 1, 3, 5, 4, 6, 0]"
      ]
     },
     "execution_count": 26,
     "metadata": {},
     "output_type": "execute_result"
    }
   ],
   "source": [
    "credit['EDUCATION'].unique()\n"
   ]
  },
  {
   "cell_type": "code",
   "execution_count": 27,
   "metadata": {},
   "outputs": [
    {
     "data": {
      "text/plain": [
       "array([2, 1, 3, 5, 4])"
      ]
     },
     "execution_count": 27,
     "metadata": {},
     "output_type": "execute_result"
    }
   ],
   "source": [
    "\n",
    "credit['EDUCATION']=np.where(credit['EDUCATION'] == 6, 4, credit['EDUCATION'])\n",
    "credit['EDUCATION']=np.where(credit['EDUCATION'] == 0, 4, credit['EDUCATION'])\n",
    "credit['EDUCATION'].unique()\n"
   ]
  },
  {
   "cell_type": "code",
   "execution_count": 28,
   "metadata": {},
   "outputs": [
    {
     "data": {
      "text/plain": [
       "array([1, 2, 3])"
      ]
     },
     "execution_count": 28,
     "metadata": {},
     "output_type": "execute_result"
    }
   ],
   "source": [
    "credit['MARRIAGE'].unique()\n",
    "credit['MARRIAGE']=np.where(credit['MARRIAGE'] == 0, 3, credit['MARRIAGE'])\n",
    "credit['MARRIAGE'].unique()"
   ]
  },
  {
   "cell_type": "code",
   "execution_count": 29,
   "metadata": {},
   "outputs": [],
   "source": [
    "credit.drop('ID', axis = 1, inplace =True) # drop column \"ID\"\n"
   ]
  },
  {
   "cell_type": "code",
   "execution_count": 30,
   "metadata": {},
   "outputs": [
    {
     "name": "stdout",
     "output_type": "stream",
     "text": [
      "<class 'pandas.core.frame.DataFrame'>\n",
      "RangeIndex: 30000 entries, 0 to 29999\n",
      "Data columns (total 24 columns):\n",
      "LIMIT_BAL                     30000 non-null int64\n",
      "SEX                           30000 non-null category\n",
      "EDUCATION                     30000 non-null int64\n",
      "MARRIAGE                      30000 non-null int64\n",
      "AGE                           30000 non-null category\n",
      "SeptemberPay                  30000 non-null category\n",
      "AugustPay                     30000 non-null category\n",
      "JulyPay                       30000 non-null category\n",
      "JunePay                       30000 non-null category\n",
      "MayPay                        30000 non-null category\n",
      "AprilPay                      30000 non-null category\n",
      "SeptemberBill                 30000 non-null int64\n",
      "AugustBill                    30000 non-null int64\n",
      "JulyBill                      30000 non-null int64\n",
      "JuneBill                      30000 non-null int64\n",
      "MayBill                       30000 non-null int64\n",
      "AprilBill                     30000 non-null int64\n",
      "SeptemberPayment              30000 non-null int64\n",
      "AugustPayment                 30000 non-null int64\n",
      "JulyPayment                   30000 non-null int64\n",
      "JunePayment                   30000 non-null int64\n",
      "MayPayment                    30000 non-null int64\n",
      "AprilPayment                  30000 non-null int64\n",
      "default payment next month    30000 non-null category\n",
      "dtypes: category(9), int64(15)\n",
      "memory usage: 3.7 MB\n"
     ]
    }
   ],
   "source": [
    "credit.info()"
   ]
  },
  {
   "cell_type": "code",
   "execution_count": 77,
   "metadata": {},
   "outputs": [],
   "source": [
    "#START OF EDA\n",
    "\n",
    "# Creating a new dataframe with categorical variables\n",
    "subset = credit[['SEX', 'EDUCATION', 'MARRIAGE', 'SeptemberPay', 'AugustPay', 'JulyPay', 'JunePay', \n",
    "               'MayPay', 'AprilPay', 'default payment next month']]\n",
    "\n"
   ]
  },
  {
   "cell_type": "code",
   "execution_count": 51,
   "metadata": {},
   "outputs": [
    {
     "data": {
      "image/png": "[encoded data removed]",
      "text/plain": [
       "<Figure size 1440x1080 with 9 Axes>"
      ]
     },
     "metadata": {},
     "output_type": "display_data"
    }
   ],
   "source": [
    "f, axes = plt.subplots(3, 3, figsize=(20, 15), facecolor='white')\n",
    "f.suptitle('FREQUENCY OF CATEGORICAL VARIABLES (BY TARGET)')\n",
    "\n",
    "ax1 = sns.countplot(x=\"SEX\", hue=\"default payment next month\", data=subset, palette=\"Blues\", ax=axes[0,0])\n",
    "ax2 = sns.countplot(x=\"EDUCATION\", hue=\"default payment next month\", data=subset, palette=\"Blues\",ax=axes[0,1])\n",
    "ax3 = sns.countplot(x=\"MARRIAGE\", hue=\"default payment next month\", data=subset, palette=\"Blues\",ax=axes[0,2])\n",
    "ax4 = sns.countplot(x=\"SeptemberPay\", hue=\"default payment next month\", data=subset, palette=\"Blues\", ax=axes[1,0])\n",
    "ax5 = sns.countplot(x=\"AugustPay\", hue=\"default payment next month\", data=subset, palette=\"Blues\", ax=axes[1,1])\n",
    "ax6 = sns.countplot(x=\"JulyPay\", hue=\"default payment next month\", data=subset, palette=\"Blues\", ax=axes[1,2])\n",
    "ax7 = sns.countplot(x=\"JunePay\", hue=\"default payment next month\", data=subset, palette=\"Blues\", ax=axes[2,0])\n",
    "ax8 = sns.countplot(x=\"MayPay\", hue=\"default payment next month\", data=subset, palette=\"Blues\", ax=axes[2,1])\n",
    "ax9 = sns.countplot(x=\"AprilPay\", hue=\"default payment next month\", data=subset, palette=\"Blues\", ax=axes[2,2]);"
   ]
  },
  {
   "cell_type": "code",
   "execution_count": 59,
   "metadata": {},
   "outputs": [
    {
     "name": "stderr",
     "output_type": "stream",
     "text": [
      "/Users/moramoga/opt/anaconda3/lib/python3.7/site-packages/ipykernel_launcher.py:7: MatplotlibDeprecationWarning: \n",
      "The 'normed' kwarg was deprecated in Matplotlib 2.1 and will be removed in 3.1. Use 'density' instead.\n",
      "  import sys\n"
     ]
    },
    {
     "data": {
      "image/png": "[encoded data removed]",
      "text/plain": [
       "<Figure size 864x288 with 1 Axes>"
      ]
     },
     "metadata": {},
     "output_type": "display_data"
    }
   ],
   "source": [
    "x1 = list(credit[credit['default payment next month'] == 1]['LIMIT_BAL'])\n",
    "x2 = list(credit[credit['default payment next month'] == 0]['LIMIT_BAL'])\n",
    "\n",
    "plt.figure(figsize=(12,4))\n",
    "sns.set_context('notebook', font_scale=1.2)\n",
    "#sns.set_color_codes(\"pastel\")\n",
    "plt.hist([x1, x2], bins = 40, normed=False, color=['steelblue', 'lightblue'])\n",
    "plt.xlim([0,600000])\n",
    "plt.legend(['Yes', 'No'], title = 'Default', loc='upper right', facecolor='white')\n",
    "plt.xlabel('Limit Balance (NT dollar)')\n",
    "plt.ylabel('Frequency')\n",
    "plt.title('LIMIT BALANCE HISTOGRAM ', SIZE=15)\n",
    "plt.box(False)\n",
    "plt.savefig('ImageName', format='png', dpi=200, transparent=True);"
   ]
  },
  {
   "cell_type": "code",
   "execution_count": 58,
   "metadata": {},
   "outputs": [
    {
     "data": {
      "image/png": "[encoded data removed]",
      "text/plain": [
       "<Figure size 720x360 with 1 Axes>"
      ]
     },
     "metadata": {},
     "output_type": "display_data"
    }
   ],
   "source": [
    "Repayment = credit[['AugustPay', 'JulyPay', 'JunePay', 'MayPay', 'AprilPay','default payment next month']]\n",
    "\n",
    "Repayment = pd.concat([y,Repayment],axis=1)\n",
    "Repayment = pd.melt(Repayment,id_vars=\"default payment next month\",\n",
    "                    var_name=\"Repayment_Status\",\n",
    "                    value_name='value')\n",
    "\n",
    "plt.figure(figsize=(10,5))\n",
    "sns.set_context('notebook', font_scale=1.2)\n",
    "sns.boxplot(y=\"value\", x=\"Repayment_Status\", hue=\"default payment next month\", data=Repayment, palette='Blues')\n",
    "plt.legend(loc='best', title= 'Default', facecolor='white')\n",
    "plt.xlim([-1.5,5.5])\n",
    "plt.title('REPAYMENT STATUS - BOXPLOT', size=14)\n",
    "plt.box(False)\n",
    "plt.savefig('ImageName', format='png', dpi=200);"
   ]
  },
  {
   "cell_type": "code",
   "execution_count": 76,
   "metadata": {},
   "outputs": [
    {
     "data": {
      "image/png": "[encoded data removed]",
      "text/plain": [
       "<Figure size 504x288 with 1 Axes>"
      ]
     },
     "metadata": {},
     "output_type": "display_data"
    }
   ],
   "source": [
    "# The frequency of defaults\n",
    "yes = credit.sum()\n",
    "no = len(credit)-yes\n",
    "\n",
    "# Percentage\n",
    "yes_perc = round(yes/len(credit)*100, 1)\n",
    "no_perc = round(no/len(credit)*100, 1)\n",
    "\n",
    "import sys \n",
    "plt.figure(figsize=(7,4))\n",
    "sns.set_context('notebook', font_scale=1.2)\n",
    "sns.countplot('default payment next month',data=credit, palette=\"Blues\")\n",
    "plt.title('COUNT OF CREDIT CARDS', size=14)\n",
    "#Removing the frame\n",
    "plt.box(False);"
   ]
  },
  {
   "cell_type": "code",
   "execution_count": null,
   "metadata": {},
   "outputs": [],
   "source": []
  }
 ],
 "metadata": {
  "kernelspec": {
   "display_name": "Python 3",
   "language": "python",
   "name": "python3"
  },
  "language_info": {
   "codemirror_mode": {
    "name": "ipython",
    "version": 3
   },
   "file_extension": ".py",
   "mimetype": "text/x-python",
   "name": "python",
   "nbconvert_exporter": "python",
   "pygments_lexer": "ipython3",
   "version": "3.7.4"
  }
 },
 "nbformat": 4,
 "nbformat_minor": 2
}
